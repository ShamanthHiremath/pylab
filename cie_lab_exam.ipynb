{
  "cells": [
    {
      "cell_type": "code",
      "execution_count": 2,
      "metadata": {
        "colab": {
          "base_uri": "https://localhost:8080/"
        },
        "id": "YRUXxDxn1G_I",
        "outputId": "a438c9d2-2ac6-4ad7-f385-c611e52657a1"
      },
      "outputs": [
        {
          "name": "stdout",
          "output_type": "stream",
          "text": [
            "SUM:  3\n"
          ]
        }
      ],
      "source": [
        "# 1. a.\tWrite a python program to read 2 numbers from the keyboard and perform the basic arithmetic operations based on the choice. (1-Add, 2-Subtract, 3-Multiply, 4-Divide)\n",
        "\n",
        "num1= int(input(\"ENTER FIRST NUM: \"))\n",
        "num2= int(input(\"ENTER SECOND NUM: \"))\n",
        "\n",
        "key = int(input(\"ENTER CHOICE: \\n 1. ADD \\n 2. SUBTRACT \\n 3. MULTIPLY \\n 4. DIVIDE \\n\"))\n",
        "\n",
        "if(key==1):\n",
        "    print(\"SUM: \", num1+num2)\n",
        "elif(key==2):\n",
        "    print(\"DIFFERENCE: \", num1-num2)\n",
        "elif(key==3):\n",
        "    print(\"PRODUCT: \", num1*num2)\n",
        "elif(key==4):\n",
        "    print(\"QUOTIENT: \", num1/num2)\n",
        "else:\n",
        "    print(\"WRONG OPERAND\")"
      ]
    },
    {
      "cell_type": "code",
      "execution_count": 11,
      "metadata": {
        "colab": {
          "base_uri": "https://localhost:8080/"
        },
        "id": "iKulYwrJ1_2O",
        "outputId": "d52e6701-1823-48c6-a786-6118ebef203e"
      },
      "outputs": [
        {
          "name": "stdout",
          "output_type": "stream",
          "text": [
            "[('date', 4), ('apple', 5), ('banana', 6), ('cherry', 6)]\n"
          ]
        }
      ],
      "source": [
        "# 1. b.\tWrite a python program to create a list of tuples having first element as the strings and the second element as the length of the string. Output the list of tuples sorted based on the length of the string.\n",
        "\n",
        "strings = [\"apple\", \"banana\", \"cherry\", \"date\"]\n",
        "tuples = [(string, len(string)) for string in strings]\n",
        "\n",
        "tuples.sort(key = lambda x:x[1])\n",
        "print(tuples)"
      ]
    },
    {
      "cell_type": "code",
      "execution_count": 7,
      "metadata": {
        "colab": {
          "base_uri": "https://localhost:8080/"
        },
        "id": "FgiHXGDs2ars",
        "outputId": "4f27b33c-3fd8-47fb-a57e-a665b09b5197"
      },
      "outputs": [
        {
          "name": "stdout",
          "output_type": "stream",
          "text": [
            "Enter the start of range: 2\n",
            "Enter the end of range: 3\n",
            "Prime No's in range 2 to 3 are: \n",
            "2, "
          ]
        }
      ],
      "source": [
        "# 2. a.\tWrite a python program to display all the prime numbers in the given range\n",
        "\n",
        "def prime_check(n):\n",
        "  if n>1:\n",
        "    for i in range(2, n//2+1):\n",
        "      if n%i==0:\n",
        "        return False\n",
        "    return True\n",
        "  else:\n",
        "    return False\n",
        "\n",
        "\n",
        "n1 = int(input(\"Enter the start of range: \"))\n",
        "n2 = int(input(\"Enter the end of range: \"))\n",
        "\n",
        "print(f\"Prime No's in range {n1} to {n2} are: \")\n",
        "for num in range(n1,n2+1):\n",
        "  prime = prime_check(num)\n",
        "  if prime:\n",
        "    print(num, end=\", \")"
      ]
    },
    {
      "cell_type": "code",
      "execution_count": 10,
      "metadata": {
        "colab": {
          "base_uri": "https://localhost:8080/"
        },
        "id": "_A_E7bFh4D2T",
        "outputId": "83d8c498-b493-4e77-fd74-793f0a7c780a"
      },
      "outputs": [
        {
          "name": "stdout",
          "output_type": "stream",
          "text": [
            "DAA\n",
            "DCN\n",
            "MCIoT\n",
            "Maths\n",
            "FAFL\n",
            "PyLab\n",
            "DCNLab\n",
            "DAALab\n",
            "DCN\n",
            "Maths\n",
            "['DAA', 'DCN', 'MCIoT', 'Maths']\n",
            "['FAFL', 'PyLab', 'DCNLab', 'DAALab']\n",
            "Yes\n",
            "['DAA', 'DCN', 'MCIoT', 'Maths', 'FAFL', 'PyLab', 'DCNLab', 'DAALab', 'IntraInternship']\n",
            "['DAA', 'DCN', 'MCIoT', 'WrongSubject', 'Maths', 'FAFL', 'PyLab', 'DCNLab', 'DAALab', 'IntraInternship']\n",
            "['DAA', 'DCN', 'MCIoT', 'WrongSubject', 'Maths', 'FAFL', 'PyLab', 'DCNLab', 'DAALab']\n",
            "['DAA', 'DCN', 'MCIoT', 'Maths', 'FAFL', 'PyLab', 'DCNLab', 'DAALab']\n"
          ]
        }
      ],
      "source": [
        "# 2. b.\tWrite a python program to create a list with all the subject names of the 4th semester and perform the following operations.\n",
        "# •\tDisplay the list using for loop.\n",
        "# •\tDisplay 2nd and 5th element of the list.\n",
        "# •\tDisplay first 4 elements of the list using the range of indexes.\n",
        "# •\tDisplay last 4 elements of the list using the range of negative indexes.\n",
        "# •\tDisplay if \"Python Programming Lab\" is available in the List or not.\n",
        "# •\tDemonstrate the working of append () and insert () function.\n",
        "# •\tDemonstrate the working of remove() and pop() function.\n",
        "\n",
        "subjs = [\"DAA\", \"DCN\", \"MCIoT\", \"Maths\", \"FAFL\", \"PyLab\", \"DCNLab\", \"DAALab\"]\n",
        "\n",
        "# •\tDisplay the list using for loop.\n",
        "for subs in subjs:\n",
        "  print(subs)\n",
        "\n",
        "# Display 2nd and 5th element of the list.\n",
        "print(subjs[1])\n",
        "print(subjs[4])\n",
        "\n",
        "# Display first 4 elements of the list using the range of indexes.\n",
        "print(subjs[:4])\n",
        "\n",
        "# Display last 4 elements of the list using the range of negative indexes.\n",
        "print(subjs[-4:])\n",
        "\n",
        "# Display if \"Python Programming Lab\" is available in the List or not.\n",
        "if \"PyLab\" in subjs:\n",
        "  print(\"Yes\")\n",
        "\n",
        "# Demonstrate the working of append () and insert () function.\n",
        "subjs.append(\"IntraInternship\")\n",
        "print(subjs)\n",
        "subjs.insert(3, \"WrongSubject\")\n",
        "print(subjs)\n",
        "\n",
        "# Demonstrate the working of remove() and pop() function.\n",
        "subjs.pop()\n",
        "print(subjs)\n",
        "subjs.remove(\"WrongSubject\")\n",
        "print(subjs)\n"
      ]
    },
    {
      "cell_type": "code",
      "execution_count": 12,
      "metadata": {
        "colab": {
          "base_uri": "https://localhost:8080/"
        },
        "id": "zUx2qjas5wNj",
        "outputId": "5626945c-8470-4db3-c6ff-2f61f2c3f192"
      },
      "outputs": [
        {
          "name": "stdout",
          "output_type": "stream",
          "text": [
            "\n",
            "Menu:\n",
            "1) Add a new word as entry\n",
            "2) Search a word\n",
            "3) Find words with same meaning\n",
            "4) Remove an entry\n",
            "5) Display\n",
            "Enter your choice: 6\n",
            "Invalid choice. Please enter a valid option.\n",
            "Continue?  (y)/(n): n\n",
            "Exiting...\n"
          ]
        }
      ],
      "source": [
        "# 3. a.\tCreate a dictionary for words and their meanings. Write functions to add a new entry (word: meaning), search for a particular word and retrieve meaning, given meaning find words with same meaning, remove an entry, display all words sorted alphabetically. [Program must be menu driven].\n",
        "\n",
        "word_meaning_dict = {}\n",
        "\n",
        "def add_entry(word, meaning):\n",
        "    if word in word_meaning_dict:\n",
        "        print(\"Word already exists in the dictionary.\")\n",
        "    else:\n",
        "        word_meaning_dict[word] = meaning\n",
        "        print(\"Entry added successfully.\")\n",
        "\n",
        "def search_word(word):\n",
        "    if word in word_meaning_dict:\n",
        "        print(\"Meaning of\", word + \":\", word_meaning_dict[word])\n",
        "    else:\n",
        "        print(\"Word not found in the dictionary.\")\n",
        "\n",
        "def find_word_by_meaning(meaning):\n",
        "    words = [word for word, mean in word_meaning_dict.items() if mean == meaning]\n",
        "    if words:\n",
        "        print(\"Words with the meaning\", meaning + \":\", \", \".join(words))\n",
        "    else:\n",
        "        print(\"No words found with the specified meaning.\")\n",
        "\n",
        "def remove_entry(word):\n",
        "    if word in word_meaning_dict:\n",
        "        del word_meaning_dict[word]\n",
        "        print(\"Entry removed successfully.\")\n",
        "    else:\n",
        "        print(\"Word not found in the dictionary.\")\n",
        "\n",
        "def display_sorted_words():\n",
        "    sorted_words = sorted(word_meaning_dict.keys())\n",
        "    print(\"Words in the dictionary (sorted alphabetically):\")\n",
        "    for word in sorted_words:\n",
        "        print(word + \":\", word_meaning_dict[word])\n",
        "\n",
        "def display_menu():\n",
        "    print(\"\\nMenu:\")\n",
        "    print(\"1) Add a new word as entry\")\n",
        "    print(\"2) Search a word\")\n",
        "    print(\"3) Find words with same meaning\")\n",
        "    print(\"4) Remove an entry\")\n",
        "    print(\"5) Display\")\n",
        "#     print(\"6) Exit\")\n",
        "\n",
        "conti = \"y\"\n",
        "\n",
        "while conti==\"y\":\n",
        "    display_menu()\n",
        "    choice = input(\"Enter your choice: \")\n",
        "\n",
        "    if choice == '1':\n",
        "        word = input(\"Enter the word: \")\n",
        "        meaning = input(\"Enter the meaning: \")\n",
        "        add_entry(word, meaning)\n",
        "    elif choice == '2':\n",
        "        word = input(\"Enter the word to search: \")\n",
        "        search_word(word)\n",
        "    elif choice == '3':\n",
        "        meaning = input(\"Enter the meaning to search: \")\n",
        "        find_word_by_meaning(meaning)\n",
        "    elif choice == '4':\n",
        "        word = input(\"Enter the word to remove: \")\n",
        "        remove_entry(word)\n",
        "    elif choice == '5':\n",
        "        display_sorted_words()\n",
        "    else:\n",
        "        print(\"Invalid choice. Please enter a valid option.\")\n",
        "\n",
        "    conti = input(\"Continue?  (y)/(n): \")\n",
        "\n",
        "    if conti == \"n\":\n",
        "        print(\"Exiting...\")"
      ]
    },
    {
      "cell_type": "code",
      "execution_count": 13,
      "metadata": {
        "colab": {
          "base_uri": "https://localhost:8080/"
        },
        "id": "Ooza5YlH6KWL",
        "outputId": "d2161319-8fb2-454c-a092-290230a5ceb5"
      },
      "outputs": [
        {
          "name": "stdout",
          "output_type": "stream",
          "text": [
            "Enter the number of elements: 5\n",
            "Enter element 1:  5\n",
            "Enter element 2:  7\n",
            "Enter element 3:  9\n",
            "Enter element 4:  1\n",
            "Enter element 5:  3\n",
            "[5, 7, 9, 1, 3]\n",
            "Maxi element in arr is : 9\n",
            "Mini element in arr is : 1\n",
            "Second largest element in arr is : 7\n",
            "5\n"
          ]
        }
      ],
      "source": [
        "# 3. b.\tWrite a python program to perform the following operations using user defined functions\n",
        "# •\tDisplay the maximum and minimum number from the array.\n",
        "# •\tDisplay the second largest number from the array without sorting\n",
        "\n",
        "def inputArray():\n",
        "  n = int(input(\"Enter the number of elements: \"))\n",
        "  arr = []\n",
        "  for i in range(n):\n",
        "    print(f\"Enter element {i+1}: \", end=' ')\n",
        "    ele = int(input())\n",
        "    arr.append(ele)\n",
        "  return arr\n",
        "\n",
        "arr = inputArray()\n",
        "print(arr)\n",
        "\n",
        "#\tDisplay the maximum and minimum number from the array.\n",
        "print(f\"Maxi element in arr is : {max(arr)}\")\n",
        "print(f\"Mini element in arr is : {min(arr)}\")\n",
        "\n",
        "#\tDisplay the second largest number from the array without sorting\n",
        "\n",
        "second_max = max([i for i in arr if i!=max(arr)])\n",
        "\n",
        "num1 = max(arr)\n",
        "arr.remove(num1)\n",
        "num2 = max(arr)\n",
        "print(f\"Second largest element in arr is : {num2}\")\n",
        "\n",
        "\n",
        "# or\n",
        "\n",
        "def second_largest(arr):\n",
        "  larg = -float('inf')\n",
        "  second_larg = -float('inf')\n",
        "  for num in arr:\n",
        "    if num > larg:\n",
        "      second_larg = larg\n",
        "      larg = num\n",
        "    elif num > second_larg and num != larg:\n",
        "      second_larg = num\n",
        "  \n",
        "  return second_larg\n",
        "\n",
        "second_largest_num = second_largest(arr)\n",
        "\n"
      ]
    },
    {
      "cell_type": "code",
      "execution_count": 14,
      "metadata": {
        "colab": {
          "base_uri": "https://localhost:8080/"
        },
        "id": "M1gVw8U1-KVm",
        "outputId": "8b3964a4-58b0-444c-ff74-901383e77317"
      },
      "outputs": [
        {
          "name": "stdout",
          "output_type": "stream",
          "text": [
            "All items in the dictionary:\n",
            "rahul : xyz\n",
            "sanchit : hawyeah\n",
            "saurabh : nikhil\n",
            "\n",
            "All keys in the dictionary:\n",
            "rahul\n",
            "sanchit\n",
            "saurabh\n",
            "\n",
            "All values in the dictionary:\n",
            "xyz\n",
            "hawyeah\n",
            "nikhil\n",
            "hawyeah\n",
            "\n",
            " I'm wet\n"
          ]
        }
      ],
      "source": [
        "# 4. a.\tWrite a python program to initialize a dictionary of usernames and passwords\n",
        "# associated with it.passwd={‘rahul’: ‘genius’, ‘kumar’: ‘smart’, ‘ankita’: ‘intelligent’} perform the following functions:\n",
        "# •\tTo print all the items in the dictionary.\n",
        "# •\tTo print all the keys in the dictionary.\n",
        "# •\tTo print all the values in the dictionary.\n",
        "# •\tTo get the passwords of users. For example, passwd[‘rahul’]= genius\n",
        "# •\tChange the password of a particular user. For example, passwd[‘ankita’]=‘brilliant’\n",
        "\n",
        "users = {\n",
        "    \"rahul\": \"xyz\",\n",
        "    \"sanchit\": \"hawyeah\",\n",
        "    \"saurabh\": \"nikhil\",\n",
        "}\n",
        "\n",
        "# To print all the items in the dictionary.\n",
        "print(\"All items in the dictionary:\")\n",
        "for key, value in users.items():\n",
        "    print(key, \":\", value)\n",
        "\n",
        "# To print all the keys in the dictionary.\n",
        "print(\"\\nAll keys in the dictionary:\")\n",
        "for key in users.keys():\n",
        "    print(key)\n",
        "\n",
        "# To print all the values in the dictionary.\n",
        "print(\"\\nAll values in the dictionary:\")\n",
        "for value in users.values():\n",
        "    print(value)\n",
        "\n",
        "print(users[\"sanchit\"])\n",
        "\n",
        "users[\"sanchit\"] = \"I'm wet\"\n",
        "\n",
        "print(\"\\n\",users[\"sanchit\"])"
      ]
    },
    {
      "cell_type": "code",
      "execution_count": 3,
      "metadata": {
        "colab": {
          "base_uri": "https://localhost:8080/"
        },
        "id": "n-CmmcxO-_cl",
        "outputId": "62cdb146-3c4d-42b7-d94c-9daa68acdb4a"
      },
      "outputs": [
        {
          "name": "stdout",
          "output_type": "stream",
          "text": [
            "Vowels : ['a', 'e', 'i']\n",
            "Consonants : ['b', 'c', 'd', 'f', 'g', 'h', 'j', 'k']\n",
            "Digits : ['1', '2', '3', '4']\n"
          ]
        }
      ],
      "source": [
        "# 4 b.Develop a python program to count all the occurrences of vowels, consonants and digits from the given text using Regular expressions.\n",
        "\n",
        "import re\n",
        "\n",
        "strr = input(\"Enter the text: \")\n",
        "\n",
        "vow = re.findall('[aeiouAEIOU]', strr)\n",
        "digits = re.findall(\"[0-9]\", strr)\n",
        "cons = re.findall(\"[bcdfghjklmnpqrstvwxyzBCDFGHJKLMNPQRSTVWXYZ]\", strr)\n",
        "\n",
        "print(f\"Vowels : {vow}\")\n",
        "print(f\"Consonants : {cons}\")\n",
        "print(f\"Digits : {digits}\")"
      ]
    },
    {
      "cell_type": "code",
      "execution_count": 45,
      "metadata": {
        "colab": {
          "base_uri": "https://localhost:8080/"
        },
        "id": "54H51x4NARw2",
        "outputId": "f932cad1-6735-4e26-8ea0-a930ee0d8449"
      },
      "outputs": [
        {
          "name": "stdout",
          "output_type": "stream",
          "text": [
            "(1, 2, 3, 4, 5, 6)\n",
            "Length of tuple:  6\n",
            "(1, 2, 3, 4, 5, 6)\n",
            "5 is in the tuple\n",
            "3rd element is 4\n"
          ]
        }
      ],
      "source": [
        "# 5. a.\tWrite a python program to create a tuple and perform the following operations\n",
        "# •\tAdding an items\n",
        "# •\tDisplaying the length of the tuple\n",
        "# •\tChecking for an item in the tuple\n",
        "# •\tAccessing an items\n",
        "\n",
        "tup = (1, 2, 3, 4, 5)\n",
        "\n",
        "#\tAdding an items\n",
        "tup = tup + (6,)\n",
        "print(tup)\n",
        "\n",
        "print(\"Length of tuple: \",len(tup))\n",
        "print(tup)\n",
        "\n",
        "if 5 in tup:\n",
        "  print(\"5 is in the tuple\")\n",
        "else:\n",
        "  print(\"5 is not in the tuple\")\n",
        "\n",
        "print(\"3rd element is\", tup[3])\n"
      ]
    },
    {
      "cell_type": "code",
      "execution_count": 48,
      "metadata": {
        "colab": {
          "base_uri": "https://localhost:8080/"
        },
        "id": "S9tEpHCABor_",
        "outputId": "c7df2e67-42d1-486a-c9c0-ae88a2456900"
      },
      "outputs": [
        {
          "name": "stdout",
          "output_type": "stream",
          "text": [
            "Enter line: 1: a\n",
            "Enter line: 2: asas\n",
            "Enter line: 3: asasasa\n",
            "Enter line: 4: \n",
            "Enter line: 5: asas\n",
            "\n",
            "Longest word in the file:\n",
            "asasasa (Length: 7)\n",
            "\n",
            "Shortest word in the file:\n",
            "a (Length: 1)\n"
          ]
        }
      ],
      "source": [
        "# 5. b.\tWrite a python program to create a text file and ask the user to enter 5-6 lines of text. Display the longest and the shortest word from the file. Display the length of these words.\n",
        "\n",
        "myfile =  open(\"new.txt\", \"w\")\n",
        "\n",
        "for i in range(5):\n",
        "    line = input(f\"Enter line: {i+1}: \")\n",
        "    myfile.write(line + \"\\n\")\n",
        "\n",
        "myfile.close()\n",
        "\n",
        "myfile = open(\"new.txt\", \"r\")\n",
        "\n",
        "longest_word = \"\"\n",
        "shortest_word = None\n",
        "# Read the contents of the file\n",
        "contents = myfile.read()\n",
        "# Split the contents of the file into words\n",
        "words = contents.split()\n",
        "\n",
        "for word in words:\n",
        "    if len(word) > len(longest_word):\n",
        "        longest_word = word\n",
        "\n",
        "    if shortest_word is None or len(word) < len(shortest_word):\n",
        "        shortest_word = word\n",
        "\n",
        "myfile.close()\n",
        "\n",
        "print(\"\\nLongest word in the file:\")\n",
        "print(f\"{longest_word} (Length: {len(longest_word)})\")\n",
        "print(\"\\nShortest word in the file:\")\n",
        "print(f\"{shortest_word} (Length: {len(shortest_word)})\")"
      ]
    },
    {
      "cell_type": "code",
      "execution_count": 26,
      "metadata": {
        "colab": {
          "base_uri": "https://localhost:8080/"
        },
        "id": "iqwjBO07CpG6",
        "outputId": "a2833f52-f792-43e7-86dc-f7119cfe3e22"
      },
      "outputs": [
        {
          "name": "stdout",
          "output_type": "stream",
          "text": [
            "[1, 3, 4, 5, 6, 6, 7, 8, 9, 10]\n",
            "10 found at position 9\n"
          ]
        }
      ],
      "source": [
        "# 6. a.\tWrite a python function binary Search () to read a sorted array and search for the key element. Display the appropriate messages.\n",
        "\n",
        "def binsearch(s, e, key, arr):\n",
        "    if(s>e):\n",
        "        print(\"Element not found\")\n",
        "        return\n",
        "    mid = s + (e-s)//2\n",
        "    if(arr[mid] == key):\n",
        "        print(f\"{key} found at position {mid}\")\n",
        "        return\n",
        "    elif(arr[mid] > key):\n",
        "        binsearch(s, mid-1, key, arr)\n",
        "    else:\n",
        "        binsearch(mid+1, e, key, arr)\n",
        "\n",
        "arr =[1,10,3,4,5,6,6,7,8,9]\n",
        "arr.sort()\n",
        "print(arr)\n",
        "binsearch(0, len(arr), 10, arr)"
      ]
    },
    {
      "cell_type": "code",
      "execution_count": 49,
      "metadata": {
        "colab": {
          "base_uri": "https://localhost:8080/",
          "height": 384
        },
        "id": "FKkRFpkzDHHA",
        "outputId": "8af66ce2-fe0b-47d4-8a25-06e1d0ab90b6"
      },
      "outputs": [
        {
          "name": "stdout",
          "output_type": "stream",
          "text": [
            "Current balance: 1000\n",
            "Deposit of 500 successful. New balance is 1500\n",
            "Current balance: 1500\n",
            "Withdrawal of 200 successful. New balance is 1300\n",
            "Current balance: 1300\n"
          ]
        },
        {
          "ename": "ValueError",
          "evalue": "Insufficient balance",
          "output_type": "error",
          "traceback": [
            "\u001b[0;31m---------------------------------------------------------------------------\u001b[0m",
            "\u001b[0;31mValueError\u001b[0m                                Traceback (most recent call last)",
            "\u001b[0;32m<ipython-input-49-6a41286c38e0>\u001b[0m in \u001b[0;36m<cell line: 34>\u001b[0;34m()\u001b[0m\n\u001b[1;32m     32\u001b[0m \u001b[0maccount\u001b[0m\u001b[0;34m.\u001b[0m\u001b[0mwithdraw\u001b[0m\u001b[0;34m(\u001b[0m\u001b[0;36m200\u001b[0m\u001b[0;34m)\u001b[0m\u001b[0;34m\u001b[0m\u001b[0;34m\u001b[0m\u001b[0m\n\u001b[1;32m     33\u001b[0m \u001b[0maccount\u001b[0m\u001b[0;34m.\u001b[0m\u001b[0mcheck_balance\u001b[0m\u001b[0;34m(\u001b[0m\u001b[0;34m)\u001b[0m\u001b[0;34m\u001b[0m\u001b[0;34m\u001b[0m\u001b[0m\n\u001b[0;32m---> 34\u001b[0;31m \u001b[0maccount\u001b[0m\u001b[0;34m.\u001b[0m\u001b[0mwithdraw\u001b[0m\u001b[0;34m(\u001b[0m\u001b[0;36m2000\u001b[0m\u001b[0;34m)\u001b[0m\u001b[0;34m\u001b[0m\u001b[0;34m\u001b[0m\u001b[0m\n\u001b[0m",
            "\u001b[0;32m<ipython-input-49-6a41286c38e0>\u001b[0m in \u001b[0;36mwithdraw\u001b[0;34m(self, amount)\u001b[0m\n\u001b[1;32m     17\u001b[0m             \u001b[0;32mraise\u001b[0m \u001b[0mValueError\u001b[0m\u001b[0;34m(\u001b[0m\u001b[0;34m\"Withdrawal amount should be greater than zero\"\u001b[0m\u001b[0;34m)\u001b[0m\u001b[0;34m\u001b[0m\u001b[0;34m\u001b[0m\u001b[0m\n\u001b[1;32m     18\u001b[0m         \u001b[0;32mif\u001b[0m \u001b[0mamount\u001b[0m \u001b[0;34m>\u001b[0m \u001b[0mself\u001b[0m\u001b[0;34m.\u001b[0m\u001b[0mbalance\u001b[0m\u001b[0;34m:\u001b[0m\u001b[0;34m\u001b[0m\u001b[0;34m\u001b[0m\u001b[0m\n\u001b[0;32m---> 19\u001b[0;31m             \u001b[0;32mraise\u001b[0m \u001b[0mValueError\u001b[0m\u001b[0;34m(\u001b[0m\u001b[0;34m\"Insufficient balance\"\u001b[0m\u001b[0;34m)\u001b[0m\u001b[0;34m\u001b[0m\u001b[0;34m\u001b[0m\u001b[0m\n\u001b[0m\u001b[1;32m     20\u001b[0m         \u001b[0mself\u001b[0m\u001b[0;34m.\u001b[0m\u001b[0mbalance\u001b[0m \u001b[0;34m-=\u001b[0m \u001b[0mamount\u001b[0m\u001b[0;34m\u001b[0m\u001b[0;34m\u001b[0m\u001b[0m\n\u001b[1;32m     21\u001b[0m         \u001b[0mprint\u001b[0m\u001b[0;34m(\u001b[0m\u001b[0;34mf\"Withdrawal of {amount} successful. New balance is {self.balance}\"\u001b[0m\u001b[0;34m)\u001b[0m\u001b[0;34m\u001b[0m\u001b[0;34m\u001b[0m\u001b[0m\n",
            "\u001b[0;31mValueError\u001b[0m: Insufficient balance"
          ]
        }
      ],
      "source": [
        "# 6. b.\tWrite a python program to simulate saving account processing in a bank using constructors. Create Deposit and Withdraw with other member function and Check for Validation while withdrawing the amount. Raise the appropriate exceptions when depositing and withdrawing an incorrect amount. Display appropriate messages.\n",
        "\n",
        "class Bank:\n",
        "    def __init__(self, account_number, account_holder_name, initial_balance=0):\n",
        "        self.account_number = account_number\n",
        "        self.account_holder_name = account_holder_name\n",
        "        self.balance = initial_balance\n",
        "\n",
        "    def deposit(self, amount):\n",
        "        if amount <= 0:\n",
        "            raise ValueError(\"Deposit amount should be greater than zero\")\n",
        "        self.balance += amount\n",
        "        print(f\"Deposit of {amount} successful. New balance is {self.balance}\")\n",
        "\n",
        "    def withdraw(self, amount):\n",
        "        if amount <= 0:\n",
        "            raise ValueError(\"Withdrawal amount should be greater than zero\")\n",
        "        if amount > self.balance:\n",
        "            raise ValueError(\"Insufficient balance\")\n",
        "        self.balance -= amount\n",
        "        print(f\"Withdrawal of {amount} successful. New balance is {self.balance}\")\n",
        "\n",
        "    def check_balance(self):\n",
        "        print(f\"Current balance: {self.balance}\")\n",
        "\n",
        "\n",
        "account = Bank(12345, \"John Doe\", 1000)\n",
        "\n",
        "account.check_balance()\n",
        "account.deposit(500)\n",
        "account.check_balance()\n",
        "account.withdraw(200)\n",
        "account.check_balance()\n",
        "account.withdraw(2000)"
      ]
    },
    {
      "cell_type": "code",
      "execution_count": 4,
      "metadata": {
        "id": "RfzO_D1QEJU_"
      },
      "outputs": [
        {
          "name": "stdout",
          "output_type": "stream",
          "text": [
            "Testing Stack Operations:\n",
            "Pushed 1 to stack\n",
            "Pushed 2 to stack\n",
            "Pushed 3 to stack\n",
            "Stack contents: [1, 2, 3]\n",
            "Stack is empty, cannot pop\n",
            "Popped item: None\n",
            "Peek item: 3\n",
            "Stack contents: [1, 2, 3]\n",
            "Stack is empty, cannot pop\n",
            "Popped item: None\n",
            "Stack is empty, cannot pop\n",
            "Popped item: None\n",
            "Stack is empty, cannot pop\n",
            "Popped item: None\n",
            "Stack contents: [1, 2, 3]\n",
            "\n",
            "Testing Queue Operations:\n",
            "Enqueued 1 to queue\n",
            "Enqueued 2 to queue\n",
            "Enqueued 3 to queue\n",
            "Queue contents: [1, 2, 3]\n",
            "Dequeued item: 1\n",
            "Front item: 2\n",
            "Queue contents: [2, 3]\n",
            "Dequeued item: 2\n",
            "Dequeued item: 3\n",
            "Queue is empty, cannot dequeue\n",
            "Dequeued item: None\n",
            "Queue is empty\n"
          ]
        }
      ],
      "source": [
        "# 7. a.\tDevelop a python program to create two classes called as Stack and Queue. Provide the necessary data members and methods to display the operations that can be performed on stacks and queues. Test for all type of conditions\n",
        "\n",
        "class Stack:\n",
        "    def __init__(self):\n",
        "        self.stack = []\n",
        "\n",
        "    def push(self, item):\n",
        "        self.stack.append(item)\n",
        "        print(f\"Pushed {item} to stack\")\n",
        "\n",
        "    def pop(self):\n",
        "        if self.stack:\n",
        "            print(\"Stack is empty, cannot pop\")\n",
        "            return None\n",
        "        return self.stack.pop()\n",
        "\n",
        "    def peek(self):\n",
        "        if self.is_empty():\n",
        "            print(\"Stack is empty, nothing to peek\")\n",
        "            return None\n",
        "        return self.stack[-1]\n",
        "\n",
        "    def is_empty(self):\n",
        "        return len(self.stack) == 0\n",
        "\n",
        "    def display(self):\n",
        "        if self.is_empty():\n",
        "            print(\"Stack is empty\")\n",
        "        else:\n",
        "            print(\"Stack contents:\", self.stack)\n",
        "\n",
        "class Queue:\n",
        "    def __init__(self):\n",
        "        self.queue = []\n",
        "\n",
        "    def enqueue(self, item):\n",
        "        self.queue.append(item)\n",
        "        print(f\"Enqueued {item} to queue\")\n",
        "\n",
        "    def dequeue(self):\n",
        "        if self.is_empty():\n",
        "            print(\"Queue is empty, cannot dequeue\")\n",
        "            return None\n",
        "        return self.queue.pop(0)\n",
        "\n",
        "    def front(self):\n",
        "        if self.is_empty():\n",
        "            print(\"Queue is empty, nothing at front\")\n",
        "            return None\n",
        "        return self.queue[0]\n",
        "\n",
        "    def is_empty(self):\n",
        "        return len(self.queue) == 0\n",
        "\n",
        "    def display(self):\n",
        "        if self.is_empty():\n",
        "            print(\"Queue is empty\")\n",
        "        else:\n",
        "            print(\"Queue contents:\", self.queue)\n",
        "\n",
        "# Test cases\n",
        "if __name__ == \"__main__\":\n",
        "    # Testing Stack\n",
        "    print(\"Testing Stack Operations:\")\n",
        "    stack = Stack()\n",
        "    stack.push(1)\n",
        "    stack.push(2)\n",
        "    stack.push(3)\n",
        "    stack.display()\n",
        "    print(\"Popped item:\", stack.pop())\n",
        "    print(\"Peek item:\", stack.peek())\n",
        "    stack.display()\n",
        "    print(\"Popped item:\", stack.pop())\n",
        "    print(\"Popped item:\", stack.pop())\n",
        "    print(\"Popped item:\", stack.pop())  # Stack is empty\n",
        "    stack.display()\n",
        "\n",
        "    # Testing Queue\n",
        "    print(\"\\nTesting Queue Operations:\")\n",
        "    queue = Queue()\n",
        "    queue.enqueue(1)\n",
        "    queue.enqueue(2)\n",
        "    queue.enqueue(3)\n",
        "    queue.display()\n",
        "    print(\"Dequeued item:\", queue.dequeue())\n",
        "    print(\"Front item:\", queue.front())\n",
        "    queue.display()\n",
        "    print(\"Dequeued item:\", queue.dequeue())\n",
        "    print(\"Dequeued item:\", queue.dequeue())\n",
        "    print(\"Dequeued item:\", queue.dequeue())  # Queue is empty\n",
        "    queue.display()\n"
      ]
    },
    {
      "cell_type": "code",
      "execution_count": 5,
      "metadata": {
        "colab": {
          "base_uri": "https://localhost:8080/"
        },
        "id": "nA_ycgOKE1T1",
        "outputId": "cf419f94-be50-41c4-cb5b-94f57f6b5b8b"
      },
      "outputs": [
        {
          "name": "stdout",
          "output_type": "stream",
          "text": [
            "Enter 1 row elements: \n",
            "Enter 2 row elements: \n",
            "Enter 3 row elements: \n",
            "\n",
            " [[3 4 5]\n",
            " [2 1 5]\n",
            " [6 7 8]] \n",
            "\n",
            "2D Array in Reverse Order (without loop):\n",
            "[[6 7 8]\n",
            " [2 1 5]\n",
            " [3 4 5]]\n",
            "\n",
            "2D Array in Reverse Order (with loop):\n",
            "[6 7 8]\n",
            "[2 1 5]\n",
            "[3 4 5]\n",
            "\n",
            "Principal diagonal elements: [3 1 8]\n",
            "\n",
            "Sorted array in ascending order:\n",
            "[1 2 3 4 5 5 6 7 8]\n",
            "Sorted array in descending order:\n",
            "[8 7 6 5 5 4 3 2 1]\n"
          ]
        }
      ],
      "source": [
        "# 7. b.\tWrite a python program to utilize NumPy and perform the following operations.\n",
        "# •\tRead and display a 2D Array.\n",
        "# •\tDisplay the array elements in the reverse order.\n",
        "# •\tDisplay all the elements of principal diagonal elements.\n",
        "# •\tSort the 2D array in ascending and descending order\n",
        "\n",
        "import numpy as np\n",
        "\n",
        "#\tRead and display a 2D Array.\n",
        "arr2d = []\n",
        "rows = int(input(\"Enter no of rows: \"))\n",
        "cols = int(input(\"Enter no of cols: \"))\n",
        "\n",
        "for i in range(rows):\n",
        "  arr = []\n",
        "  print(f\"Enter {i+1} row elements: \")\n",
        "  # numbers = list(map(int, input(\"Enter \", cols, \" integers separated by spaces: \").split()))\n",
        "  # arr.append(numbers)\n",
        "  for j in range(cols):\n",
        "    num = int(input())\n",
        "    arr.append(num)\n",
        "  arr2d.append(arr)\n",
        "\n",
        "arr2d = np.array(arr2d)\n",
        "print(\"\\n\", arr2d , \"\\n\")\n",
        "\n",
        "# Display the array elements in the reverse order.\n",
        "print(\"2D Array in Reverse Order (without loop):\")\n",
        "print(arr2d[::-1])\n",
        "print()\n",
        "\n",
        "print(\"2D Array in Reverse Order (with loop):\")\n",
        "for row in reversed(arr2d):\n",
        "    print(row)\n",
        "print()\n",
        "\n",
        "#\tDisplay all the elements of principal diagonal elements.\n",
        "diagonal_elements = np.diag(arr2d)\n",
        "print(\"Principal diagonal elements:\", diagonal_elements)\n",
        "print()\n",
        "\n",
        "# Sort the 2D array in ascending and descending order\n",
        "arr_sorted_asc = np.sort(arr2d, axis=None)\n",
        "arr_sorted_desc = np.sort(arr2d, axis=None)[::-1]\n",
        "\n",
        "print(\"Sorted array in ascending order:\")\n",
        "print(arr_sorted_asc)\n",
        "print(\"Sorted array in descending order:\")\n",
        "print(arr_sorted_desc)\n",
        "\n"
      ]
    },
    {
      "cell_type": "code",
      "execution_count": 51,
      "metadata": {
        "colab": {
          "base_uri": "https://localhost:8080/"
        },
        "id": "fbwlPAK0HFhU",
        "outputId": "85a9ab54-f4ec-447c-c462-a0b05d57a0b9"
      },
      "outputs": [
        {
          "name": "stdout",
          "output_type": "stream",
          "text": [
            "Len 2:  67\n",
            "Len 2:  77\n",
            "Len 2:  57\n",
            "Len 2:  45\n",
            "Len 2:  99\n",
            "Len 2:  91\n",
            "Len 2:  73\n",
            "Len 2:  87\n",
            "Len 2:  63\n",
            "Len 2:  65\n"
          ]
        }
      ],
      "source": [
        "# 8. a.\tDevelop a python program to read 20 random numbers. Display all the odd numbers from this list which are of length 2 and 4.\n",
        "\n",
        "import random\n",
        "\n",
        "arr = [random.randint(0, 100) for i in range(20)]\n",
        "for num in arr:\n",
        "  if num%2 == 1:\n",
        "    num_str = str(num)  # Convert the integer to a string to check the number of digits\n",
        "    if len(num_str) == 2:\n",
        "      print(\"Len 2: \", num)\n",
        "    elif len(num_str) == 4:\n",
        "      print(\"Len 4: \", num)"
      ]
    },
    {
      "cell_type": "code",
      "execution_count": 52,
      "metadata": {
        "colab": {
          "base_uri": "https://localhost:8080/"
        },
        "id": "AbrLQ8uoIe0k",
        "outputId": "dec7f970-6ab8-44d5-9d9c-2fbe1d95128e"
      },
      "outputs": [
        {
          "name": "stdout",
          "output_type": "stream",
          "text": [
            "Enter line: 1: asasas\n",
            "Enter line: 2: d\n",
            "Enter line: 3: ghdfhdhd\n",
            "Enter line: 4: \"\"\n",
            "Enter line: 5: \"\n",
            "Uppercase Count: 0, Lowercase Count: 16, Digit Count: 0\n"
          ]
        }
      ],
      "source": [
        "# 8. b.\tDevelop a python program to create a text file and ask the user to enter 5-6 lines of text. Count the number of upper case, lower case and digits in the file. Display the details of the file.\n",
        "\n",
        "myfile =  open(\"file2.txt\", \"w\")\n",
        "\n",
        "for i in range(5):\n",
        "    line = input(f\"Enter line: {i+1}: \")\n",
        "    myfile.write(line + \"\\n\")\n",
        "\n",
        "myfile.close()\n",
        "\n",
        "myfile = open(\"new.txt\", \"r\")\n",
        "\n",
        "upper_count = 0\n",
        "lower_count = 0\n",
        "digit_count = 0\n",
        "\n",
        "for line in myfile:\n",
        "    for char in line:\n",
        "        if char.isupper():\n",
        "            upper_count += 1\n",
        "        elif char.islower():\n",
        "            lower_count += 1\n",
        "        elif char.isdigit():\n",
        "            digit_count += 1\n",
        "\n",
        "myfile.close()\n",
        "\n",
        "print(f\"Uppercase Count: {upper_count}, Lowercase Count: {lower_count}, Digit Count: {digit_count}\")"
      ]
    },
    {
      "cell_type": "code",
      "execution_count": 6,
      "metadata": {
        "id": "5_5PEYliQMCP"
      },
      "outputs": [
        {
          "ename": "FileNotFoundError",
          "evalue": "[Errno 2] No such file or directory: 'iris.csv'",
          "output_type": "error",
          "traceback": [
            "\u001b[1;31m---------------------------------------------------------------------------\u001b[0m",
            "\u001b[1;31mFileNotFoundError\u001b[0m                         Traceback (most recent call last)",
            "Cell \u001b[1;32mIn[6], line 10\u001b[0m\n\u001b[0;32m      7\u001b[0m \u001b[38;5;28;01mimport\u001b[39;00m \u001b[38;5;21;01mmatplotlib\u001b[39;00m\u001b[38;5;21;01m.\u001b[39;00m\u001b[38;5;21;01mpyplot\u001b[39;00m \u001b[38;5;28;01mas\u001b[39;00m \u001b[38;5;21;01mplt\u001b[39;00m\n\u001b[0;32m      8\u001b[0m \u001b[38;5;28;01mimport\u001b[39;00m \u001b[38;5;21;01mpandas\u001b[39;00m \u001b[38;5;28;01mas\u001b[39;00m \u001b[38;5;21;01mpd\u001b[39;00m\n\u001b[1;32m---> 10\u001b[0m df \u001b[38;5;241m=\u001b[39m \u001b[43mpd\u001b[49m\u001b[38;5;241;43m.\u001b[39;49m\u001b[43mread_csv\u001b[49m\u001b[43m(\u001b[49m\u001b[38;5;124;43m'\u001b[39;49m\u001b[38;5;124;43miris.csv\u001b[39;49m\u001b[38;5;124;43m'\u001b[39;49m\u001b[43m)\u001b[49m\n\u001b[0;32m     12\u001b[0m \u001b[38;5;66;03m# Line plot of the dataset\u001b[39;00m\n\u001b[0;32m     13\u001b[0m plt\u001b[38;5;241m.\u001b[39mfigure(figsize\u001b[38;5;241m=\u001b[39m(\u001b[38;5;241m10\u001b[39m, \u001b[38;5;241m6\u001b[39m))\n",
            "File \u001b[1;32mc:\\Python312\\Lib\\site-packages\\pandas\\io\\parsers\\readers.py:1026\u001b[0m, in \u001b[0;36mread_csv\u001b[1;34m(filepath_or_buffer, sep, delimiter, header, names, index_col, usecols, dtype, engine, converters, true_values, false_values, skipinitialspace, skiprows, skipfooter, nrows, na_values, keep_default_na, na_filter, verbose, skip_blank_lines, parse_dates, infer_datetime_format, keep_date_col, date_parser, date_format, dayfirst, cache_dates, iterator, chunksize, compression, thousands, decimal, lineterminator, quotechar, quoting, doublequote, escapechar, comment, encoding, encoding_errors, dialect, on_bad_lines, delim_whitespace, low_memory, memory_map, float_precision, storage_options, dtype_backend)\u001b[0m\n\u001b[0;32m   1013\u001b[0m kwds_defaults \u001b[38;5;241m=\u001b[39m _refine_defaults_read(\n\u001b[0;32m   1014\u001b[0m     dialect,\n\u001b[0;32m   1015\u001b[0m     delimiter,\n\u001b[1;32m   (...)\u001b[0m\n\u001b[0;32m   1022\u001b[0m     dtype_backend\u001b[38;5;241m=\u001b[39mdtype_backend,\n\u001b[0;32m   1023\u001b[0m )\n\u001b[0;32m   1024\u001b[0m kwds\u001b[38;5;241m.\u001b[39mupdate(kwds_defaults)\n\u001b[1;32m-> 1026\u001b[0m \u001b[38;5;28;01mreturn\u001b[39;00m \u001b[43m_read\u001b[49m\u001b[43m(\u001b[49m\u001b[43mfilepath_or_buffer\u001b[49m\u001b[43m,\u001b[49m\u001b[43m \u001b[49m\u001b[43mkwds\u001b[49m\u001b[43m)\u001b[49m\n",
            "File \u001b[1;32mc:\\Python312\\Lib\\site-packages\\pandas\\io\\parsers\\readers.py:620\u001b[0m, in \u001b[0;36m_read\u001b[1;34m(filepath_or_buffer, kwds)\u001b[0m\n\u001b[0;32m    617\u001b[0m _validate_names(kwds\u001b[38;5;241m.\u001b[39mget(\u001b[38;5;124m\"\u001b[39m\u001b[38;5;124mnames\u001b[39m\u001b[38;5;124m\"\u001b[39m, \u001b[38;5;28;01mNone\u001b[39;00m))\n\u001b[0;32m    619\u001b[0m \u001b[38;5;66;03m# Create the parser.\u001b[39;00m\n\u001b[1;32m--> 620\u001b[0m parser \u001b[38;5;241m=\u001b[39m \u001b[43mTextFileReader\u001b[49m\u001b[43m(\u001b[49m\u001b[43mfilepath_or_buffer\u001b[49m\u001b[43m,\u001b[49m\u001b[43m \u001b[49m\u001b[38;5;241;43m*\u001b[39;49m\u001b[38;5;241;43m*\u001b[39;49m\u001b[43mkwds\u001b[49m\u001b[43m)\u001b[49m\n\u001b[0;32m    622\u001b[0m \u001b[38;5;28;01mif\u001b[39;00m chunksize \u001b[38;5;129;01mor\u001b[39;00m iterator:\n\u001b[0;32m    623\u001b[0m     \u001b[38;5;28;01mreturn\u001b[39;00m parser\n",
            "File \u001b[1;32mc:\\Python312\\Lib\\site-packages\\pandas\\io\\parsers\\readers.py:1620\u001b[0m, in \u001b[0;36mTextFileReader.__init__\u001b[1;34m(self, f, engine, **kwds)\u001b[0m\n\u001b[0;32m   1617\u001b[0m     \u001b[38;5;28mself\u001b[39m\u001b[38;5;241m.\u001b[39moptions[\u001b[38;5;124m\"\u001b[39m\u001b[38;5;124mhas_index_names\u001b[39m\u001b[38;5;124m\"\u001b[39m] \u001b[38;5;241m=\u001b[39m kwds[\u001b[38;5;124m\"\u001b[39m\u001b[38;5;124mhas_index_names\u001b[39m\u001b[38;5;124m\"\u001b[39m]\n\u001b[0;32m   1619\u001b[0m \u001b[38;5;28mself\u001b[39m\u001b[38;5;241m.\u001b[39mhandles: IOHandles \u001b[38;5;241m|\u001b[39m \u001b[38;5;28;01mNone\u001b[39;00m \u001b[38;5;241m=\u001b[39m \u001b[38;5;28;01mNone\u001b[39;00m\n\u001b[1;32m-> 1620\u001b[0m \u001b[38;5;28mself\u001b[39m\u001b[38;5;241m.\u001b[39m_engine \u001b[38;5;241m=\u001b[39m \u001b[38;5;28;43mself\u001b[39;49m\u001b[38;5;241;43m.\u001b[39;49m\u001b[43m_make_engine\u001b[49m\u001b[43m(\u001b[49m\u001b[43mf\u001b[49m\u001b[43m,\u001b[49m\u001b[43m \u001b[49m\u001b[38;5;28;43mself\u001b[39;49m\u001b[38;5;241;43m.\u001b[39;49m\u001b[43mengine\u001b[49m\u001b[43m)\u001b[49m\n",
            "File \u001b[1;32mc:\\Python312\\Lib\\site-packages\\pandas\\io\\parsers\\readers.py:1880\u001b[0m, in \u001b[0;36mTextFileReader._make_engine\u001b[1;34m(self, f, engine)\u001b[0m\n\u001b[0;32m   1878\u001b[0m     \u001b[38;5;28;01mif\u001b[39;00m \u001b[38;5;124m\"\u001b[39m\u001b[38;5;124mb\u001b[39m\u001b[38;5;124m\"\u001b[39m \u001b[38;5;129;01mnot\u001b[39;00m \u001b[38;5;129;01min\u001b[39;00m mode:\n\u001b[0;32m   1879\u001b[0m         mode \u001b[38;5;241m+\u001b[39m\u001b[38;5;241m=\u001b[39m \u001b[38;5;124m\"\u001b[39m\u001b[38;5;124mb\u001b[39m\u001b[38;5;124m\"\u001b[39m\n\u001b[1;32m-> 1880\u001b[0m \u001b[38;5;28mself\u001b[39m\u001b[38;5;241m.\u001b[39mhandles \u001b[38;5;241m=\u001b[39m \u001b[43mget_handle\u001b[49m\u001b[43m(\u001b[49m\n\u001b[0;32m   1881\u001b[0m \u001b[43m    \u001b[49m\u001b[43mf\u001b[49m\u001b[43m,\u001b[49m\n\u001b[0;32m   1882\u001b[0m \u001b[43m    \u001b[49m\u001b[43mmode\u001b[49m\u001b[43m,\u001b[49m\n\u001b[0;32m   1883\u001b[0m \u001b[43m    \u001b[49m\u001b[43mencoding\u001b[49m\u001b[38;5;241;43m=\u001b[39;49m\u001b[38;5;28;43mself\u001b[39;49m\u001b[38;5;241;43m.\u001b[39;49m\u001b[43moptions\u001b[49m\u001b[38;5;241;43m.\u001b[39;49m\u001b[43mget\u001b[49m\u001b[43m(\u001b[49m\u001b[38;5;124;43m\"\u001b[39;49m\u001b[38;5;124;43mencoding\u001b[39;49m\u001b[38;5;124;43m\"\u001b[39;49m\u001b[43m,\u001b[49m\u001b[43m \u001b[49m\u001b[38;5;28;43;01mNone\u001b[39;49;00m\u001b[43m)\u001b[49m\u001b[43m,\u001b[49m\n\u001b[0;32m   1884\u001b[0m \u001b[43m    \u001b[49m\u001b[43mcompression\u001b[49m\u001b[38;5;241;43m=\u001b[39;49m\u001b[38;5;28;43mself\u001b[39;49m\u001b[38;5;241;43m.\u001b[39;49m\u001b[43moptions\u001b[49m\u001b[38;5;241;43m.\u001b[39;49m\u001b[43mget\u001b[49m\u001b[43m(\u001b[49m\u001b[38;5;124;43m\"\u001b[39;49m\u001b[38;5;124;43mcompression\u001b[39;49m\u001b[38;5;124;43m\"\u001b[39;49m\u001b[43m,\u001b[49m\u001b[43m \u001b[49m\u001b[38;5;28;43;01mNone\u001b[39;49;00m\u001b[43m)\u001b[49m\u001b[43m,\u001b[49m\n\u001b[0;32m   1885\u001b[0m \u001b[43m    \u001b[49m\u001b[43mmemory_map\u001b[49m\u001b[38;5;241;43m=\u001b[39;49m\u001b[38;5;28;43mself\u001b[39;49m\u001b[38;5;241;43m.\u001b[39;49m\u001b[43moptions\u001b[49m\u001b[38;5;241;43m.\u001b[39;49m\u001b[43mget\u001b[49m\u001b[43m(\u001b[49m\u001b[38;5;124;43m\"\u001b[39;49m\u001b[38;5;124;43mmemory_map\u001b[39;49m\u001b[38;5;124;43m\"\u001b[39;49m\u001b[43m,\u001b[49m\u001b[43m \u001b[49m\u001b[38;5;28;43;01mFalse\u001b[39;49;00m\u001b[43m)\u001b[49m\u001b[43m,\u001b[49m\n\u001b[0;32m   1886\u001b[0m \u001b[43m    \u001b[49m\u001b[43mis_text\u001b[49m\u001b[38;5;241;43m=\u001b[39;49m\u001b[43mis_text\u001b[49m\u001b[43m,\u001b[49m\n\u001b[0;32m   1887\u001b[0m \u001b[43m    \u001b[49m\u001b[43merrors\u001b[49m\u001b[38;5;241;43m=\u001b[39;49m\u001b[38;5;28;43mself\u001b[39;49m\u001b[38;5;241;43m.\u001b[39;49m\u001b[43moptions\u001b[49m\u001b[38;5;241;43m.\u001b[39;49m\u001b[43mget\u001b[49m\u001b[43m(\u001b[49m\u001b[38;5;124;43m\"\u001b[39;49m\u001b[38;5;124;43mencoding_errors\u001b[39;49m\u001b[38;5;124;43m\"\u001b[39;49m\u001b[43m,\u001b[49m\u001b[43m \u001b[49m\u001b[38;5;124;43m\"\u001b[39;49m\u001b[38;5;124;43mstrict\u001b[39;49m\u001b[38;5;124;43m\"\u001b[39;49m\u001b[43m)\u001b[49m\u001b[43m,\u001b[49m\n\u001b[0;32m   1888\u001b[0m \u001b[43m    \u001b[49m\u001b[43mstorage_options\u001b[49m\u001b[38;5;241;43m=\u001b[39;49m\u001b[38;5;28;43mself\u001b[39;49m\u001b[38;5;241;43m.\u001b[39;49m\u001b[43moptions\u001b[49m\u001b[38;5;241;43m.\u001b[39;49m\u001b[43mget\u001b[49m\u001b[43m(\u001b[49m\u001b[38;5;124;43m\"\u001b[39;49m\u001b[38;5;124;43mstorage_options\u001b[39;49m\u001b[38;5;124;43m\"\u001b[39;49m\u001b[43m,\u001b[49m\u001b[43m \u001b[49m\u001b[38;5;28;43;01mNone\u001b[39;49;00m\u001b[43m)\u001b[49m\u001b[43m,\u001b[49m\n\u001b[0;32m   1889\u001b[0m \u001b[43m\u001b[49m\u001b[43m)\u001b[49m\n\u001b[0;32m   1890\u001b[0m \u001b[38;5;28;01massert\u001b[39;00m \u001b[38;5;28mself\u001b[39m\u001b[38;5;241m.\u001b[39mhandles \u001b[38;5;129;01mis\u001b[39;00m \u001b[38;5;129;01mnot\u001b[39;00m \u001b[38;5;28;01mNone\u001b[39;00m\n\u001b[0;32m   1891\u001b[0m f \u001b[38;5;241m=\u001b[39m \u001b[38;5;28mself\u001b[39m\u001b[38;5;241m.\u001b[39mhandles\u001b[38;5;241m.\u001b[39mhandle\n",
            "File \u001b[1;32mc:\\Python312\\Lib\\site-packages\\pandas\\io\\common.py:873\u001b[0m, in \u001b[0;36mget_handle\u001b[1;34m(path_or_buf, mode, encoding, compression, memory_map, is_text, errors, storage_options)\u001b[0m\n\u001b[0;32m    868\u001b[0m \u001b[38;5;28;01melif\u001b[39;00m \u001b[38;5;28misinstance\u001b[39m(handle, \u001b[38;5;28mstr\u001b[39m):\n\u001b[0;32m    869\u001b[0m     \u001b[38;5;66;03m# Check whether the filename is to be opened in binary mode.\u001b[39;00m\n\u001b[0;32m    870\u001b[0m     \u001b[38;5;66;03m# Binary mode does not support 'encoding' and 'newline'.\u001b[39;00m\n\u001b[0;32m    871\u001b[0m     \u001b[38;5;28;01mif\u001b[39;00m ioargs\u001b[38;5;241m.\u001b[39mencoding \u001b[38;5;129;01mand\u001b[39;00m \u001b[38;5;124m\"\u001b[39m\u001b[38;5;124mb\u001b[39m\u001b[38;5;124m\"\u001b[39m \u001b[38;5;129;01mnot\u001b[39;00m \u001b[38;5;129;01min\u001b[39;00m ioargs\u001b[38;5;241m.\u001b[39mmode:\n\u001b[0;32m    872\u001b[0m         \u001b[38;5;66;03m# Encoding\u001b[39;00m\n\u001b[1;32m--> 873\u001b[0m         handle \u001b[38;5;241m=\u001b[39m \u001b[38;5;28;43mopen\u001b[39;49m\u001b[43m(\u001b[49m\n\u001b[0;32m    874\u001b[0m \u001b[43m            \u001b[49m\u001b[43mhandle\u001b[49m\u001b[43m,\u001b[49m\n\u001b[0;32m    875\u001b[0m \u001b[43m            \u001b[49m\u001b[43mioargs\u001b[49m\u001b[38;5;241;43m.\u001b[39;49m\u001b[43mmode\u001b[49m\u001b[43m,\u001b[49m\n\u001b[0;32m    876\u001b[0m \u001b[43m            \u001b[49m\u001b[43mencoding\u001b[49m\u001b[38;5;241;43m=\u001b[39;49m\u001b[43mioargs\u001b[49m\u001b[38;5;241;43m.\u001b[39;49m\u001b[43mencoding\u001b[49m\u001b[43m,\u001b[49m\n\u001b[0;32m    877\u001b[0m \u001b[43m            \u001b[49m\u001b[43merrors\u001b[49m\u001b[38;5;241;43m=\u001b[39;49m\u001b[43merrors\u001b[49m\u001b[43m,\u001b[49m\n\u001b[0;32m    878\u001b[0m \u001b[43m            \u001b[49m\u001b[43mnewline\u001b[49m\u001b[38;5;241;43m=\u001b[39;49m\u001b[38;5;124;43m\"\u001b[39;49m\u001b[38;5;124;43m\"\u001b[39;49m\u001b[43m,\u001b[49m\n\u001b[0;32m    879\u001b[0m \u001b[43m        \u001b[49m\u001b[43m)\u001b[49m\n\u001b[0;32m    880\u001b[0m     \u001b[38;5;28;01melse\u001b[39;00m:\n\u001b[0;32m    881\u001b[0m         \u001b[38;5;66;03m# Binary mode\u001b[39;00m\n\u001b[0;32m    882\u001b[0m         handle \u001b[38;5;241m=\u001b[39m \u001b[38;5;28mopen\u001b[39m(handle, ioargs\u001b[38;5;241m.\u001b[39mmode)\n",
            "\u001b[1;31mFileNotFoundError\u001b[0m: [Errno 2] No such file or directory: 'iris.csv'"
          ]
        }
      ],
      "source": [
        "# 9. a.\tDevelop a python program read a dataset and perform the following using Pandas\n",
        "# •\tVisualize the dataset using plot ().\n",
        "# •\tDraw the Scatter plot for the dataset on any column.\n",
        "# •\tDisplay the scatter plot with different colors.\n",
        "# •\tDraw the Histogram for the dataset on any column.\n",
        "\n",
        "import matplotlib.pyplot as plt\n",
        "import pandas as pd\n",
        "\n",
        "df = pd.read_csv('iris.csv')\n",
        "\n",
        "# Line plot of the dataset\n",
        "plt.figure(figsize=(10, 6))\n",
        "df.plot(kind='line', subplots=True, layout=(5, 5), figsize=(15, 10), title=\"Dataset Visualization\")\n",
        "plt.tight_layout()\n",
        "plt.show()\n",
        "\n",
        "# Scatter plot for sepal length vs. sepal width with colors\n",
        "df.plot(kind='scatter', x='sepal.length', y='sepal.width', c='sepal.width', colormap='viridis', title='Scatter Plot with Color Variation')\n",
        "plt.xlabel('Sepal Length')\n",
        "plt.ylabel('Sepal Width')\n",
        "plt.show()\n",
        "\n",
        "# Histogram for sepal length\n",
        "\n",
        "df['sepal.length'].plot(kind='hist', bins=20, color='green', edgecolor='black')\n",
        "plt.xlabel('Sepal Length')\n",
        "plt.title('Histogram of Sepal Length')\n",
        "plt.show()\n",
        "\n",
        "# # Histogram for sepal length\n",
        "# plt.scatter(df.index, df['sepal.length'], c='black')\n",
        "# plt.xlabel('Index')\n",
        "\n",
        "# df.plot(kind='hist')\n",
        "# plt.show()\n",
        "\n"
      ]
    },
    {
      "cell_type": "code",
      "execution_count": 43,
      "metadata": {
        "colab": {
          "base_uri": "https://localhost:8080/"
        },
        "id": "5Lkrgb5QRkOS",
        "outputId": "bb385afb-9abc-4e69-9039-0ae48396eaad"
      },
      "outputs": [
        {
          "name": "stdout",
          "output_type": "stream",
          "text": [
            "Enter a number: 0\n",
            "ZeroDivisionError caught: division by zero\n",
            "Execution completed, whether an exception was raised or not.\n"
          ]
        }
      ],
      "source": [
        "# 9. b.\tDevelop a python program to demonstrate handling multiple exceptions using try, except , else and finally block statements\n",
        "\n",
        "def handle_multiple_exceptions():\n",
        "    try:\n",
        "        # Code that may raise multiple exceptions\n",
        "        value = int(input(\"Enter a number: \"))  # May raise ValueError\n",
        "        result = 10 / value  # May raise ZeroDivisionError\n",
        "        my_list = [1, 2, 3]\n",
        "        print(my_list[value])  # May raise IndexError\n",
        "        my_dict = {'a': 1, 'b': 2}\n",
        "        print(my_dict[value])  # May raise KeyError if value is not an alphabet\n",
        "\n",
        "    except ValueError as e:\n",
        "        print(f\"ValueError caught: {e}\")\n",
        "\n",
        "    except ZeroDivisionError as e:\n",
        "        print(f\"ZeroDivisionError caught: {e}\")\n",
        "\n",
        "    except IndexError as e:\n",
        "        print(f\"IndexError caught: {e}\")\n",
        "\n",
        "    except KeyError as e:\n",
        "        print(f\"KeyError caught: {e}\")\n",
        "\n",
        "    else:\n",
        "        # This block will run if no exceptions were raised\n",
        "        print(\"All operations were successful!\")\n",
        "\n",
        "    finally:\n",
        "        # This block will always run\n",
        "        print(\"Execution completed, whether an exception was raised or not.\")\n",
        "\n",
        "# Call the function to demonstrate exception handling\n",
        "handle_multiple_exceptions()"
      ]
    },
    {
      "cell_type": "code",
      "execution_count": 44,
      "metadata": {
        "colab": {
          "base_uri": "https://localhost:8080/"
        },
        "id": "C9U1HO-1SSVc",
        "outputId": "86e06a78-e0df-4236-bb32-47c4dc1f0d3a"
      },
      "outputs": [
        {
          "name": "stdout",
          "output_type": "stream",
          "text": [
            "NameError caught: name 'non_existent_variable' is not defined\n",
            "IndexError caught: list index out of range\n",
            "KeyError caught: 'c'\n",
            "ZeroDivisionError caught: division by zero\n"
          ]
        }
      ],
      "source": [
        "# 10. a. Write a python program to demonstrate handling of the following exceptions using try and except.\n",
        "# •\tName Error\n",
        "# •\tIndex Error\n",
        "# •\tKey Error\n",
        "# •\tZero Division Error\n",
        "\n",
        "def handle_exceptions():\n",
        "    # Handling NameError\n",
        "    try:\n",
        "        print(non_existent_variable)\n",
        "    except NameError as e:\n",
        "        print(f\"NameError caught: {e}\")\n",
        "\n",
        "    # Handling IndexError\n",
        "    try:\n",
        "        my_list = [1, 2, 3]\n",
        "        print(my_list[5])\n",
        "    except IndexError as e:\n",
        "        print(f\"IndexError caught: {e}\")\n",
        "\n",
        "    # Handling KeyError\n",
        "    try:\n",
        "        my_dict = {'a': 1, 'b': 2}\n",
        "        print(my_dict['c'])\n",
        "    except KeyError as e:\n",
        "        print(f\"KeyError caught: {e}\")\n",
        "\n",
        "    # Handling ZeroDivisionError\n",
        "    try:\n",
        "        result = 10 / 0\n",
        "    except ZeroDivisionError as e:\n",
        "        print(f\"ZeroDivisionError caught: {e}\")\n",
        "\n",
        "# Call the function to see exception handling in action\n",
        "handle_exceptions()"
      ]
    },
    {
      "cell_type": "code",
      "execution_count": null,
      "metadata": {
        "id": "-wEjH5YxSiKP"
      },
      "outputs": [],
      "source": [
        "# 10. b. Write a python program to read the Iris dataset and perform the following operations using Pandas\n",
        "# •\tDisplay first 5 rows of the dataset.\n",
        "# •\tDisplay last 5 rows of the dataset.\n",
        "# •\tDisplay the information about the dataset.\n",
        "# •\tDisplay the overview of the values of each column.\n",
        "# •\tVisualize the dataset using plot ().\n",
        "\n",
        "df=pd.read_csv('iris.csv')\n",
        "\n",
        "print(\"First 5 rows of the dataset:\")\n",
        "print(df.head())\n",
        "\n",
        "print(\"\\nLast 5 rows of the dataset:\")\n",
        "print(df.tail())\n",
        "\n",
        "print(\"\\nInformation about the dataset:\")\n",
        "print(df.info())\n",
        "\n",
        "print(\"\\nOverview of the values of each column:\")\n",
        "print(df.describe())\n",
        "\n",
        "plt.figure(figsize=(10, 6))\n",
        "df.plot(kind='line', subplots=True, layout=(5, 5), figsize=(15, 10), title=\"Dataset Visualization\")\n",
        "plt.tight_layout()\n",
        "plt.show()"
      ]
    }
  ],
  "metadata": {
    "colab": {
      "provenance": []
    },
    "kernelspec": {
      "display_name": "Python 3",
      "name": "python3"
    },
    "language_info": {
      "codemirror_mode": {
        "name": "ipython",
        "version": 3
      },
      "file_extension": ".py",
      "mimetype": "text/x-python",
      "name": "python",
      "nbconvert_exporter": "python",
      "pygments_lexer": "ipython3",
      "version": "3.12.3"
    }
  },
  "nbformat": 4,
  "nbformat_minor": 0
}
