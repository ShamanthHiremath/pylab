{
  "nbformat": 4,
  "nbformat_minor": 0,
  "metadata": {
    "colab": {
      "provenance": []
    },
    "kernelspec": {
      "name": "python3",
      "display_name": "Python 3"
    },
    "language_info": {
      "name": "python"
    }
  },
  "cells": [
    {
      "cell_type": "code",
      "execution_count": 1,
      "metadata": {
        "colab": {
          "base_uri": "https://localhost:8080/"
        },
        "id": "YRUXxDxn1G_I",
        "outputId": "a438c9d2-2ac6-4ad7-f385-c611e52657a1"
      },
      "outputs": [
        {
          "output_type": "stream",
          "name": "stdout",
          "text": [
            "Enter first number: 1\n",
            "Enter second number: 2\n",
            "Enter your choice: 2\n",
            "-1\n"
          ]
        }
      ],
      "source": [
        "# 1. a.\tWrite a python program to read 2 numbers from the keyboard and perform the basic arithmetic operations based on the choice. (1-Add, 2-Subtract, 3-Multiply, 4-Divide)\n",
        "\n",
        "num1= int(input(\"ENTER FIRST NUM: \"))\n",
        "num2= int(input(\"ENTER SECOND NUM: \"))\n",
        "\n",
        "key = input(\"ENTER OPERAND: \")[0]\n",
        "\n",
        "if(key=='+'):\n",
        "    print(\"SUM: \", num1+num2)\n",
        "elif(key=='-'):\n",
        "    print(\"DIFFERENCE: \", num1-num2)\n",
        "elif(key=='*'):\n",
        "    print(\"PRODUCT: \", num1*num2)\n",
        "elif(key=='/'):\n",
        "    print(\"QUOTIENT: \", num1/num2)\n",
        "else:\n",
        "    print(\"WRONG OPERAND\")"
      ]
    },
    {
      "cell_type": "code",
      "source": [
        "# 1. b.\tWrite a python program to create a list of tuples having first element as the strings and the second element as the length of the string. Output the list of tuples sorted based on the length of the string.\n",
        "\n",
        "strings = [\"apple\", \"banana\", \"cherry\", \"date\"]\n",
        "tuples = [(string, len(string)) for string in strings]\n",
        "\n",
        "tuples.sort(key = lambda x:x[1])\n",
        "print(tuples)"
      ],
      "metadata": {
        "colab": {
          "base_uri": "https://localhost:8080/"
        },
        "id": "iKulYwrJ1_2O",
        "outputId": "d52e6701-1823-48c6-a786-6118ebef203e"
      },
      "execution_count": 11,
      "outputs": [
        {
          "output_type": "stream",
          "name": "stdout",
          "text": [
            "[('date', 4), ('apple', 5), ('banana', 6), ('cherry', 6)]\n"
          ]
        }
      ]
    },
    {
      "cell_type": "code",
      "source": [
        "# 2. a.\tWrite a python program to display all the prime numbers in the given range\n",
        "\n",
        "def prime_check(n):\n",
        "  if n>1:\n",
        "    for i in range(2, n//2+1):\n",
        "      if n%i==0:\n",
        "        return False\n",
        "    else:\n",
        "      return True\n",
        "\n",
        "\n",
        "n1 = int(input(\"Enter the start of range: \"))\n",
        "n2 = int(input(\"Enter the end of range: \"))\n",
        "\n",
        "print(f\"Prime No's in range {n1} to {n2} are: \")\n",
        "for num in range(n1,n2+1):\n",
        "  prime = prime_check(num)\n",
        "  if prime:\n",
        "    print(num, end=\", \")"
      ],
      "metadata": {
        "colab": {
          "base_uri": "https://localhost:8080/"
        },
        "id": "FgiHXGDs2ars",
        "outputId": "4f27b33c-3fd8-47fb-a57e-a665b09b5197"
      },
      "execution_count": 7,
      "outputs": [
        {
          "output_type": "stream",
          "name": "stdout",
          "text": [
            "Enter the start of range: 2\n",
            "Enter the end of range: 3\n",
            "Prime No's in range 2 to 3 are: \n",
            "2, "
          ]
        }
      ]
    },
    {
      "cell_type": "code",
      "source": [
        "# 2. b.\tWrite a python program to create a list with all the subject names of the 4th semester and perform the following operations.\n",
        "# •\tDisplay the list using for loop.\n",
        "# •\tDisplay 2nd and 5th element of the list.\n",
        "# •\tDisplay first 4 elements of the list using the range of indexes.\n",
        "# •\tDisplay last 4 elements of the list using the range of negative indexes.\n",
        "# •\tDisplay if \"Python Programming Lab\" is available in the List or not.\n",
        "# •\tDemonstrate the working of append () and insert () function.\n",
        "# •\tDemonstrate the working of remove() and pop() function.\n",
        "\n",
        "subjs = [\"DAA\", \"DCN\", \"MCIoT\", \"Maths\", \"FAFL\", \"PyLab\", \"DCNLab\", \"DAALab\"]\n",
        "\n",
        "# •\tDisplay the list using for loop.\n",
        "for subs in subjs:\n",
        "  print(subs)\n",
        "\n",
        "# Display 2nd and 5th element of the list.\n",
        "print(subjs[1])\n",
        "print(subjs[4])\n",
        "\n",
        "# Display first 4 elements of the list using the range of indexes.\n",
        "print(subjs[:4])\n",
        "\n",
        "# Display last 4 elements of the list using the range of negative indexes.\n",
        "print(subjs[-4:])\n",
        "\n",
        "# Display if \"Python Programming Lab\" is available in the List or not.\n",
        "if \"PyLab\" in subjs:\n",
        "  print(\"Yes\")\n",
        "\n",
        "# Demonstrate the working of append () and insert () function.\n",
        "subjs.append(\"IntraInternship\")\n",
        "print(subjs)\n",
        "subjs.insert(3, \"WrongSubject\")\n",
        "print(subjs)\n",
        "\n",
        "# Demonstrate the working of remove() and pop() function.\n",
        "subjs.pop()\n",
        "print(subjs)\n",
        "subjs.remove(\"WrongSubject\")\n",
        "print(subjs)\n"
      ],
      "metadata": {
        "colab": {
          "base_uri": "https://localhost:8080/"
        },
        "id": "_A_E7bFh4D2T",
        "outputId": "83d8c498-b493-4e77-fd74-793f0a7c780a"
      },
      "execution_count": 10,
      "outputs": [
        {
          "output_type": "stream",
          "name": "stdout",
          "text": [
            "DAA\n",
            "DCN\n",
            "MCIoT\n",
            "Maths\n",
            "FAFL\n",
            "PyLab\n",
            "DCNLab\n",
            "DAALab\n",
            "DCN\n",
            "Maths\n",
            "['DAA', 'DCN', 'MCIoT', 'Maths']\n",
            "['FAFL', 'PyLab', 'DCNLab', 'DAALab']\n",
            "Yes\n",
            "['DAA', 'DCN', 'MCIoT', 'Maths', 'FAFL', 'PyLab', 'DCNLab', 'DAALab', 'IntraInternship']\n",
            "['DAA', 'DCN', 'MCIoT', 'WrongSubject', 'Maths', 'FAFL', 'PyLab', 'DCNLab', 'DAALab', 'IntraInternship']\n",
            "['DAA', 'DCN', 'MCIoT', 'WrongSubject', 'Maths', 'FAFL', 'PyLab', 'DCNLab', 'DAALab']\n",
            "['DAA', 'DCN', 'MCIoT', 'Maths', 'FAFL', 'PyLab', 'DCNLab', 'DAALab']\n"
          ]
        }
      ]
    },
    {
      "cell_type": "code",
      "source": [
        "# 3. a.\tCreate a dictionary for words and their meanings. Write functions to add a new entry (word: meaning), search for a particular word and retrieve meaning, given meaning find words with same meaning, remove an entry, display all words sorted alphabetically. [Program must be menu driven].\n",
        "\n",
        "word_meaning_dict = {}\n",
        "\n",
        "def add_entry(word, meaning):\n",
        "    if word in word_meaning_dict:\n",
        "        print(\"Word already exists in the dictionary.\")\n",
        "    else:\n",
        "        word_meaning_dict[word] = meaning\n",
        "        print(\"Entry added successfully.\")\n",
        "\n",
        "def search_word(word):\n",
        "    if word in word_meaning_dict:\n",
        "        print(\"Meaning of\", word + \":\", word_meaning_dict[word])\n",
        "    else:\n",
        "        print(\"Word not found in the dictionary.\")\n",
        "\n",
        "def find_word_by_meaning(meaning):\n",
        "    words = [word for word, mean in word_meaning_dict.items() if mean == meaning]\n",
        "    if words:\n",
        "        print(\"Words with the meaning\", meaning + \":\", \", \".join(words))\n",
        "    else:\n",
        "        print(\"No words found with the specified meaning.\")\n",
        "\n",
        "def remove_entry(word):\n",
        "    if word in word_meaning_dict:\n",
        "        del word_meaning_dict[word]\n",
        "        print(\"Entry removed successfully.\")\n",
        "    else:\n",
        "        print(\"Word not found in the dictionary.\")\n",
        "\n",
        "def display_sorted_words():\n",
        "    sorted_words = sorted(word_meaning_dict.keys())\n",
        "    print(\"Words in the dictionary (sorted alphabetically):\")\n",
        "    for word in sorted_words:\n",
        "        print(word + \":\", word_meaning_dict[word])\n",
        "\n",
        "def display_menu():\n",
        "    print(\"\\nMenu:\")\n",
        "    print(\"1) Add a new word as entry\")\n",
        "    print(\"2) Search a word\")\n",
        "    print(\"3) Find words with same meaning\")\n",
        "    print(\"4) Remove an entry\")\n",
        "    print(\"5) Display\")\n",
        "#     print(\"6) Exit\")\n",
        "\n",
        "conti = \"y\"\n",
        "\n",
        "while conti==\"y\":\n",
        "    display_menu()\n",
        "    choice = input(\"Enter your choice: \")\n",
        "\n",
        "    if choice == '1':\n",
        "        word = input(\"Enter the word: \")\n",
        "        meaning = input(\"Enter the meaning: \")\n",
        "        add_entry(word, meaning)\n",
        "    elif choice == '2':\n",
        "        word = input(\"Enter the word to search: \")\n",
        "        search_word(word)\n",
        "    elif choice == '3':\n",
        "        meaning = input(\"Enter the meaning to search: \")\n",
        "        find_word_by_meaning(meaning)\n",
        "    elif choice == '4':\n",
        "        word = input(\"Enter the word to remove: \")\n",
        "        remove_entry(word)\n",
        "    elif choice == '5':\n",
        "        display_sorted_words()\n",
        "    else:\n",
        "        print(\"Invalid choice. Please enter a valid option.\")\n",
        "\n",
        "    conti = input(\"Continue?  (y)/(n): \")\n",
        "\n",
        "    if conti == \"n\":\n",
        "        print(\"Exiting...\")"
      ],
      "metadata": {
        "colab": {
          "base_uri": "https://localhost:8080/"
        },
        "id": "zUx2qjas5wNj",
        "outputId": "5626945c-8470-4db3-c6ff-2f61f2c3f192"
      },
      "execution_count": 12,
      "outputs": [
        {
          "output_type": "stream",
          "name": "stdout",
          "text": [
            "\n",
            "Menu:\n",
            "1) Add a new word as entry\n",
            "2) Search a word\n",
            "3) Find words with same meaning\n",
            "4) Remove an entry\n",
            "5) Display\n",
            "Enter your choice: 6\n",
            "Invalid choice. Please enter a valid option.\n",
            "Continue?  (y)/(n): n\n",
            "Exiting...\n"
          ]
        }
      ]
    },
    {
      "cell_type": "code",
      "source": [
        "# 3. b.\tWrite a python program to perform the following operations using user defined functions\n",
        "# •\tDisplay the maximum and minimum number from the array.\n",
        "# •\tDisplay the second largest number from the array without sorting\n",
        "\n",
        "def inputArray():\n",
        "  n = int(input(\"Enter the number of elements: \"))\n",
        "  arr = []\n",
        "  for i in range(n):\n",
        "    print(f\"Enter element {i+1}: \", end=' ')\n",
        "    ele = int(input())\n",
        "    arr.append(ele)\n",
        "  return arr\n",
        "\n",
        "arr = inputArray()\n",
        "print(arr)\n",
        "\n",
        "#\tDisplay the maximum and minimum number from the array.\n",
        "print(f\"Maxi element in arr is : {max(arr)}\")\n",
        "print(f\"Mini element in arr is : {min(arr)}\")\n",
        "\n",
        "#\tDisplay the second largest number from the array without sorting\n",
        "num1 = max(arr)\n",
        "arr.remove(num1)\n",
        "num2 = max(arr)\n",
        "print(f\"Second largest element in arr is : {num2}\")\n",
        "\n"
      ],
      "metadata": {
        "colab": {
          "base_uri": "https://localhost:8080/"
        },
        "id": "Ooza5YlH6KWL",
        "outputId": "d2161319-8fb2-454c-a092-290230a5ceb5"
      },
      "execution_count": 13,
      "outputs": [
        {
          "output_type": "stream",
          "name": "stdout",
          "text": [
            "Enter the number of elements: 5\n",
            "Enter element 1:  5\n",
            "Enter element 2:  7\n",
            "Enter element 3:  9\n",
            "Enter element 4:  1\n",
            "Enter element 5:  3\n",
            "[5, 7, 9, 1, 3]\n",
            "Maxi element in arr is : 9\n",
            "Mini element in arr is : 1\n",
            "Second largest element in arr is : 7\n",
            "5\n"
          ]
        }
      ]
    },
    {
      "cell_type": "code",
      "source": [
        "# 4. a.\tWrite a python program to initialize a dictionary of usernames and passwords\n",
        "# associated with it.passwd={‘rahul’: ‘genius’, ‘kumar’: ‘smart’, ‘ankita’: ‘intelligent’} perform the following functions:\n",
        "# •\tTo print all the items in the dictionary.\n",
        "# •\tTo print all the keys in the dictionary.\n",
        "# •\tTo print all the values in the dictionary.\n",
        "# •\tTo get the passwords of users. For example, passwd[‘rahul’]= genius\n",
        "# •\tChange the password of a particular user. For example, passwd[‘ankita’]=‘brilliant’\n",
        "\n",
        "users = {\n",
        "    \"rahul\": \"xyz\",\n",
        "    \"sanchit\": \"hawyeah\",\n",
        "    \"saurabh\": \"nikhil\",\n",
        "}\n",
        "\n",
        "# To print all the items in the dictionary.\n",
        "print(\"All items in the dictionary:\")\n",
        "for key, value in users.items():\n",
        "    print(key, \":\", value)\n",
        "\n",
        "# To print all the keys in the dictionary.\n",
        "print(\"\\nAll keys in the dictionary:\")\n",
        "for key in users.keys():\n",
        "    print(key)\n",
        "\n",
        "# To print all the values in the dictionary.\n",
        "print(\"\\nAll values in the dictionary:\")\n",
        "for value in users.values():\n",
        "    print(value)\n",
        "\n",
        "print(users[\"sanchit\"])\n",
        "\n",
        "users[\"sanchit\"] = \"I'm wet\"\n",
        "\n",
        "print(\"\\n\",users[\"sanchit\"])"
      ],
      "metadata": {
        "colab": {
          "base_uri": "https://localhost:8080/"
        },
        "id": "M1gVw8U1-KVm",
        "outputId": "8b3964a4-58b0-444c-ff74-901383e77317"
      },
      "execution_count": 14,
      "outputs": [
        {
          "output_type": "stream",
          "name": "stdout",
          "text": [
            "All items in the dictionary:\n",
            "rahul : xyz\n",
            "sanchit : hawyeah\n",
            "saurabh : nikhil\n",
            "\n",
            "All keys in the dictionary:\n",
            "rahul\n",
            "sanchit\n",
            "saurabh\n",
            "\n",
            "All values in the dictionary:\n",
            "xyz\n",
            "hawyeah\n",
            "nikhil\n",
            "hawyeah\n",
            "\n",
            " I'm wet\n"
          ]
        }
      ]
    },
    {
      "cell_type": "code",
      "source": [
        "# 5 a.Develop a python program to count all the occurrences of vowels, consonants and digits from the given text using Regular expressions.\n",
        "\n",
        "import re\n",
        "\n",
        "strr = input(\"Enter the text: \")\n",
        "\n",
        "vow = re.findall(\"[aeiou]\", strr)\n",
        "digits = re.findall(\"[0-9]\", strr)\n",
        "cons = re.findall(\"[^aeiou]\", strr)\n",
        "\n",
        "print(f\"Vowels : {vow}\")\n",
        "print(f\"Consonants : {cons}\")\n",
        "print(f\"Digits : {digits}\")"
      ],
      "metadata": {
        "colab": {
          "base_uri": "https://localhost:8080/"
        },
        "id": "n-CmmcxO-_cl",
        "outputId": "62cdb146-3c4d-42b7-d94c-9daa68acdb4a"
      },
      "execution_count": 15,
      "outputs": [
        {
          "output_type": "stream",
          "name": "stdout",
          "text": [
            "Enter the text: abcdefghijklmnopqrstvuwxyz\n",
            "Vowels : ['a', 'e', 'i', 'o', 'u']\n",
            "Consonants : ['b', 'c', 'd', 'f', 'g', 'h', 'j', 'k', 'l', 'm', 'n', 'p', 'q', 'r', 's', 't', 'v', 'w', 'x', 'y', 'z']\n",
            "Digits : []\n"
          ]
        }
      ]
    },
    {
      "cell_type": "code",
      "source": [
        "# 5. b.\tWrite a python program to create a tuple and perform the following operations\n",
        "# •\tAdding an items\n",
        "# •\tDisplaying the length of the tuple\n",
        "# •\tChecking for an item in the tuple\n",
        "# •\tAccessing an items\n",
        "\n",
        "tup = (1, 2, 3, 4, 5)\n",
        "\n",
        "#\tAdding an items\n",
        "tup = tup + (6,)\n",
        "print(tup)\n",
        "\n",
        "print(\"Length of tuple: \",len(tup))\n",
        "print(tup)\n",
        "\n",
        "if 5 in tup:\n",
        "  print(\"5 is in the tuple\")\n",
        "else:\n",
        "  print(\"5 is not in the tuple\")\n",
        "\n",
        "print(\"3rd element is\", tup[3])\n"
      ],
      "metadata": {
        "colab": {
          "base_uri": "https://localhost:8080/"
        },
        "id": "54H51x4NARw2",
        "outputId": "f932cad1-6735-4e26-8ea0-a930ee0d8449"
      },
      "execution_count": 45,
      "outputs": [
        {
          "output_type": "stream",
          "name": "stdout",
          "text": [
            "(1, 2, 3, 4, 5, 6)\n",
            "Length of tuple:  6\n",
            "(1, 2, 3, 4, 5, 6)\n",
            "5 is in the tuple\n",
            "3rd element is 4\n"
          ]
        }
      ]
    },
    {
      "cell_type": "code",
      "source": [
        "# 5. c.\tWrite a python program to create a text file and ask the user to enter 5-6 lines of text. Display the longest and the shortest word from the file. Display the length of these words.\n",
        "\n",
        "myfile =  open(\"new.txt\", \"w\")\n",
        "\n",
        "for i in range(5):\n",
        "    line = input(f\"Enter line: {i+1}: \")\n",
        "    myfile.write(line + \"\\n\")\n",
        "\n",
        "myfile.close()\n",
        "\n",
        "myfile = open(\"new.txt\", \"r\")\n",
        "\n",
        "longest_word = \"\"\n",
        "shortest_word = None\n",
        "contents = myfile.read()\n",
        "words = contents.split()\n",
        "\n",
        "for word in words:\n",
        "    if len(word) > len(longest_word):\n",
        "        longest_word = word\n",
        "\n",
        "    if shortest_word is None or len(word) < len(shortest_word):\n",
        "        shortest_word = word\n",
        "\n",
        "myfile.close()\n",
        "\n",
        "print(\"\\nLongest word in the file:\")\n",
        "print(f\"{longest_word} (Length: {len(longest_word)})\")\n",
        "print(\"\\nShortest word in the file:\")\n",
        "print(f\"{shortest_word} (Length: {len(shortest_word)})\")"
      ],
      "metadata": {
        "colab": {
          "base_uri": "https://localhost:8080/"
        },
        "id": "S9tEpHCABor_",
        "outputId": "c7df2e67-42d1-486a-c9c0-ae88a2456900"
      },
      "execution_count": 48,
      "outputs": [
        {
          "output_type": "stream",
          "name": "stdout",
          "text": [
            "Enter line: 1: a\n",
            "Enter line: 2: asas\n",
            "Enter line: 3: asasasa\n",
            "Enter line: 4: \n",
            "Enter line: 5: asas\n",
            "\n",
            "Longest word in the file:\n",
            "asasasa (Length: 7)\n",
            "\n",
            "Shortest word in the file:\n",
            "a (Length: 1)\n"
          ]
        }
      ]
    },
    {
      "cell_type": "code",
      "source": [
        "# 6. a.\tWrite a python function binary Search () to read a sorted array and search for the key element. Display the appropriate messages.\n",
        "\n",
        "def binsearch(s, e, key, arr):\n",
        "    if(s>e):\n",
        "        print(\"Element not found\")\n",
        "        return\n",
        "    mid = s + (e-s)//2\n",
        "    if(arr[mid] == key):\n",
        "        print(f\"{key} found at position {mid}\")\n",
        "        return\n",
        "    elif(arr[mid] > key):\n",
        "        binsearch(s, mid-1, key, arr)\n",
        "    else:\n",
        "        binsearch(mid+1, e, key, arr)\n",
        "\n",
        "arr =[1,10,3,4,5,6,6,7,8,9]\n",
        "arr.sort()\n",
        "print(arr)\n",
        "binsearch(0, len(arr), 10, arr)"
      ],
      "metadata": {
        "colab": {
          "base_uri": "https://localhost:8080/"
        },
        "id": "iqwjBO07CpG6",
        "outputId": "a2833f52-f792-43e7-86dc-f7119cfe3e22"
      },
      "execution_count": 26,
      "outputs": [
        {
          "output_type": "stream",
          "name": "stdout",
          "text": [
            "[1, 3, 4, 5, 6, 6, 7, 8, 9, 10]\n",
            "10 found at position 9\n"
          ]
        }
      ]
    },
    {
      "cell_type": "code",
      "source": [
        "# 6. b.\tWrite a python program to simulate saving account processing in a bank using constructors. Create Deposit and Withdraw with other member function and Check for Validation while withdrawing the amount. Raise the appropriate exceptions when depositing and withdrawing an incorrect amount. Display appropriate messages.\n",
        "\n",
        "class Bank:\n",
        "    def __init__(self, account_number, account_holder_name, initial_balance=0):\n",
        "        self.account_number = account_number\n",
        "        self.account_holder_name = account_holder_name\n",
        "        self.balance = initial_balance\n",
        "\n",
        "    def deposit(self, amount):\n",
        "        if amount <= 0:\n",
        "            raise ValueError(\"Deposit amount should be greater than zero\")\n",
        "        self.balance += amount\n",
        "        print(f\"Deposit of {amount} successful. New balance is {self.balance}\")\n",
        "\n",
        "    def withdraw(self, amount):\n",
        "        if amount <= 0:\n",
        "            raise ValueError(\"Withdrawal amount should be greater than zero\")\n",
        "        if amount > self.balance:\n",
        "            raise ValueError(\"Insufficient balance\")\n",
        "        self.balance -= amount\n",
        "        print(f\"Withdrawal of {amount} successful. New balance is {self.balance}\")\n",
        "\n",
        "    def check_balance(self):\n",
        "        print(f\"Current balance: {self.balance}\")\n",
        "\n",
        "\n",
        "account = Bank(12345, \"John Doe\", 1000)\n",
        "\n",
        "account.check_balance()\n",
        "account.deposit(500)\n",
        "account.check_balance()\n",
        "account.withdraw(200)\n",
        "account.check_balance()\n",
        "account.withdraw(2000)"
      ],
      "metadata": {
        "colab": {
          "base_uri": "https://localhost:8080/",
          "height": 384
        },
        "id": "FKkRFpkzDHHA",
        "outputId": "8af66ce2-fe0b-47d4-8a25-06e1d0ab90b6"
      },
      "execution_count": 49,
      "outputs": [
        {
          "output_type": "stream",
          "name": "stdout",
          "text": [
            "Current balance: 1000\n",
            "Deposit of 500 successful. New balance is 1500\n",
            "Current balance: 1500\n",
            "Withdrawal of 200 successful. New balance is 1300\n",
            "Current balance: 1300\n"
          ]
        },
        {
          "output_type": "error",
          "ename": "ValueError",
          "evalue": "Insufficient balance",
          "traceback": [
            "\u001b[0;31m---------------------------------------------------------------------------\u001b[0m",
            "\u001b[0;31mValueError\u001b[0m                                Traceback (most recent call last)",
            "\u001b[0;32m<ipython-input-49-6a41286c38e0>\u001b[0m in \u001b[0;36m<cell line: 34>\u001b[0;34m()\u001b[0m\n\u001b[1;32m     32\u001b[0m \u001b[0maccount\u001b[0m\u001b[0;34m.\u001b[0m\u001b[0mwithdraw\u001b[0m\u001b[0;34m(\u001b[0m\u001b[0;36m200\u001b[0m\u001b[0;34m)\u001b[0m\u001b[0;34m\u001b[0m\u001b[0;34m\u001b[0m\u001b[0m\n\u001b[1;32m     33\u001b[0m \u001b[0maccount\u001b[0m\u001b[0;34m.\u001b[0m\u001b[0mcheck_balance\u001b[0m\u001b[0;34m(\u001b[0m\u001b[0;34m)\u001b[0m\u001b[0;34m\u001b[0m\u001b[0;34m\u001b[0m\u001b[0m\n\u001b[0;32m---> 34\u001b[0;31m \u001b[0maccount\u001b[0m\u001b[0;34m.\u001b[0m\u001b[0mwithdraw\u001b[0m\u001b[0;34m(\u001b[0m\u001b[0;36m2000\u001b[0m\u001b[0;34m)\u001b[0m\u001b[0;34m\u001b[0m\u001b[0;34m\u001b[0m\u001b[0m\n\u001b[0m",
            "\u001b[0;32m<ipython-input-49-6a41286c38e0>\u001b[0m in \u001b[0;36mwithdraw\u001b[0;34m(self, amount)\u001b[0m\n\u001b[1;32m     17\u001b[0m             \u001b[0;32mraise\u001b[0m \u001b[0mValueError\u001b[0m\u001b[0;34m(\u001b[0m\u001b[0;34m\"Withdrawal amount should be greater than zero\"\u001b[0m\u001b[0;34m)\u001b[0m\u001b[0;34m\u001b[0m\u001b[0;34m\u001b[0m\u001b[0m\n\u001b[1;32m     18\u001b[0m         \u001b[0;32mif\u001b[0m \u001b[0mamount\u001b[0m \u001b[0;34m>\u001b[0m \u001b[0mself\u001b[0m\u001b[0;34m.\u001b[0m\u001b[0mbalance\u001b[0m\u001b[0;34m:\u001b[0m\u001b[0;34m\u001b[0m\u001b[0;34m\u001b[0m\u001b[0m\n\u001b[0;32m---> 19\u001b[0;31m             \u001b[0;32mraise\u001b[0m \u001b[0mValueError\u001b[0m\u001b[0;34m(\u001b[0m\u001b[0;34m\"Insufficient balance\"\u001b[0m\u001b[0;34m)\u001b[0m\u001b[0;34m\u001b[0m\u001b[0;34m\u001b[0m\u001b[0m\n\u001b[0m\u001b[1;32m     20\u001b[0m         \u001b[0mself\u001b[0m\u001b[0;34m.\u001b[0m\u001b[0mbalance\u001b[0m \u001b[0;34m-=\u001b[0m \u001b[0mamount\u001b[0m\u001b[0;34m\u001b[0m\u001b[0;34m\u001b[0m\u001b[0m\n\u001b[1;32m     21\u001b[0m         \u001b[0mprint\u001b[0m\u001b[0;34m(\u001b[0m\u001b[0;34mf\"Withdrawal of {amount} successful. New balance is {self.balance}\"\u001b[0m\u001b[0;34m)\u001b[0m\u001b[0;34m\u001b[0m\u001b[0;34m\u001b[0m\u001b[0m\n",
            "\u001b[0;31mValueError\u001b[0m: Insufficient balance"
          ]
        }
      ]
    },
    {
      "cell_type": "code",
      "source": [
        "# 7. a.\tDevelop a python program to create two classes called as Stack and Queue. Provide the necessary data members and methods to display the operations that can be performed on stacks and queues. Test for all type of conditions\n",
        "\n",
        "class Stack:\n",
        "    def __init__(self):\n",
        "        self.stack = []\n",
        "\n",
        "    def push(self, item):\n",
        "        self.stack.append(item)\n",
        "        print(f\"Pushed {item} to stack\")\n",
        "\n",
        "    def pop(self):\n",
        "        if self.is_empty():\n",
        "            print(\"Stack is empty, cannot pop\")\n",
        "            return None\n",
        "        return self.stack.pop()\n",
        "\n",
        "    def peek(self):\n",
        "        if self.is_empty():\n",
        "            print(\"Stack is empty, nothing to peek\")\n",
        "            return None\n",
        "        return self.stack[-1]\n",
        "\n",
        "    def is_empty(self):\n",
        "        return len(self.stack) == 0\n",
        "\n",
        "    def display(self):\n",
        "        if self.is_empty():\n",
        "            print(\"Stack is empty\")\n",
        "        else:\n",
        "            print(\"Stack contents:\", self.stack)\n",
        "\n",
        "class Queue:\n",
        "    def __init__(self):\n",
        "        self.queue = []\n",
        "\n",
        "    def enqueue(self, item):\n",
        "        self.queue.append(item)\n",
        "        print(f\"Enqueued {item} to queue\")\n",
        "\n",
        "    def dequeue(self):\n",
        "        if self.is_empty():\n",
        "            print(\"Queue is empty, cannot dequeue\")\n",
        "            return None\n",
        "        return self.queue.pop(0)\n",
        "\n",
        "    def front(self):\n",
        "        if self.is_empty():\n",
        "            print(\"Queue is empty, nothing at front\")\n",
        "            return None\n",
        "        return self.queue[0]\n",
        "\n",
        "    def is_empty(self):\n",
        "        return len(self.queue) == 0\n",
        "\n",
        "    def display(self):\n",
        "        if self.is_empty():\n",
        "            print(\"Queue is empty\")\n",
        "        else:\n",
        "            print(\"Queue contents:\", self.queue)\n",
        "\n",
        "# Test cases\n",
        "if __name__ == \"__main__\":\n",
        "    # Testing Stack\n",
        "    print(\"Testing Stack Operations:\")\n",
        "    stack = Stack()\n",
        "    stack.push(1)\n",
        "    stack.push(2)\n",
        "    stack.push(3)\n",
        "    stack.display()\n",
        "    print(\"Popped item:\", stack.pop())\n",
        "    print(\"Peek item:\", stack.peek())\n",
        "    stack.display()\n",
        "    print(\"Popped item:\", stack.pop())\n",
        "    print(\"Popped item:\", stack.pop())\n",
        "    print(\"Popped item:\", stack.pop())  # Stack is empty\n",
        "    stack.display()\n",
        "\n",
        "    # Testing Queue\n",
        "    print(\"\\nTesting Queue Operations:\")\n",
        "    queue = Queue()\n",
        "    queue.enqueue(1)\n",
        "    queue.enqueue(2)\n",
        "    queue.enqueue(3)\n",
        "    queue.display()\n",
        "    print(\"Dequeued item:\", queue.dequeue())\n",
        "    print(\"Front item:\", queue.front())\n",
        "    queue.display()\n",
        "    print(\"Dequeued item:\", queue.dequeue())\n",
        "    print(\"Dequeued item:\", queue.dequeue())\n",
        "    print(\"Dequeued item:\", queue.dequeue())  # Queue is empty\n",
        "    queue.display()\n"
      ],
      "metadata": {
        "id": "RfzO_D1QEJU_"
      },
      "execution_count": null,
      "outputs": []
    },
    {
      "cell_type": "code",
      "source": [
        "# 7. b.\tWrite a python program to utilize NumPy and perform the following operations.\n",
        "# •\tRead and display a 2D Array.\n",
        "# •\tDisplay the array elements in the reverse order.\n",
        "# •\tDisplay all the elements of principal diagonal elements.\n",
        "# •\tSort the 2D array in ascending and descending order\n",
        "\n",
        "import numpy as np\n",
        "\n",
        "#\tRead and display a 2D Array.\n",
        "arr2d = []\n",
        "rows = int(input(\"Enter no of rows: \"))\n",
        "cols = int(input(\"Enter no of cols: \"))\n",
        "\n",
        "for i in range(rows):\n",
        "  arr = []\n",
        "  print(f\"Enter {i+1} row elements: \")\n",
        "  for j in range(cols):\n",
        "    num = int(input())\n",
        "    arr.append(num)\n",
        "  arr2d.append(arr)\n",
        "\n",
        "arr2d = np.array(arr2d)\n",
        "print(\"\\n\", arr2d , \"\\n\")\n",
        "\n",
        "# Display the array elements in the reverse order.\n",
        "print(\"2D Array in Reverse Order (without loop):\")\n",
        "print(arr2d[::-1])\n",
        "print()\n",
        "\n",
        "print(\"2D Array in Reverse Order (with loop):\")\n",
        "for row in reversed(arr2d):\n",
        "    print(row)\n",
        "print()\n",
        "\n",
        "#\tDisplay all the elements of principal diagonal elements.\n",
        "diagonal_elements = np.diag(arr2d)\n",
        "print(\"Principal diagonal elements:\", diagonal_elements)\n",
        "print()\n",
        "\n",
        "# Sort the 2D array in ascending and descending order\n",
        "arr_sorted_asc = np.sort(arr2d, axis=None)\n",
        "arr_sorted_desc = np.sort(arr2d, axis=None)[::-1]\n",
        "\n",
        "print(\"Sorted array in ascending order:\")\n",
        "print(arr_sorted_asc)\n",
        "print(\"Sorted array in descending order:\")\n",
        "print(arr_sorted_desc)\n",
        "\n"
      ],
      "metadata": {
        "colab": {
          "base_uri": "https://localhost:8080/"
        },
        "id": "nA_ycgOKE1T1",
        "outputId": "cf419f94-be50-41c4-cb5b-94f57f6b5b8b"
      },
      "execution_count": 38,
      "outputs": [
        {
          "output_type": "stream",
          "name": "stdout",
          "text": [
            "Enter no of rows: 3\n",
            "Enter no of cols: 3\n",
            "Enter 1 row elements: \n",
            "1\n",
            "2\n",
            "3\n",
            "Enter 2 row elements: \n",
            "4\n",
            "5\n",
            "6\n",
            "Enter 3 row elements: \n",
            "7\n",
            "2\n",
            "1\n",
            "\n",
            " [[1 2 3]\n",
            " [4 5 6]\n",
            " [7 2 1]] \n",
            "\n",
            "2D Array in Reverse Order (without loop):\n",
            "[[7 2 1]\n",
            " [4 5 6]\n",
            " [1 2 3]]\n",
            "\n",
            "2D Array in Reverse Order (with loop):\n",
            "[7 2 1]\n",
            "[4 5 6]\n",
            "[1 2 3]\n",
            "\n",
            "Principal diagonal elements: [1 5 1]\n",
            "\n",
            "Sorted array in ascending order:\n",
            "[1 1 2 2 3 4 5 6 7]\n",
            "Sorted array in descending order:\n",
            "[7 6 5 4 3 2 2 1 1]\n"
          ]
        }
      ]
    },
    {
      "cell_type": "code",
      "source": [
        "# 8. a.\tDevelop a python program to read 20 random numbers. Display all the odd numbers from this list which are of length 2 and 4.\n",
        "\n",
        "import random\n",
        "\n",
        "arr = [random.randint(0, 100) for i in range(20)]\n",
        "for num in arr:\n",
        "  if num%2 == 1:\n",
        "    num_str = str(num)  # Convert the integer to a string to check the number of digits\n",
        "    if len(num_str) == 2:\n",
        "      print(\"Len 2: \", num)\n",
        "    elif len(num_str) == 4:\n",
        "      print(\"Len 4: \", num)"
      ],
      "metadata": {
        "colab": {
          "base_uri": "https://localhost:8080/"
        },
        "id": "fbwlPAK0HFhU",
        "outputId": "85a9ab54-f4ec-447c-c462-a0b05d57a0b9"
      },
      "execution_count": 51,
      "outputs": [
        {
          "output_type": "stream",
          "name": "stdout",
          "text": [
            "Len 2:  67\n",
            "Len 2:  77\n",
            "Len 2:  57\n",
            "Len 2:  45\n",
            "Len 2:  99\n",
            "Len 2:  91\n",
            "Len 2:  73\n",
            "Len 2:  87\n",
            "Len 2:  63\n",
            "Len 2:  65\n"
          ]
        }
      ]
    },
    {
      "cell_type": "code",
      "source": [
        "# 8. b.\tDevelop a python program to create a text file and ask the user to enter 5-6 lines of text. Count the number of upper case, lower case and digits in the file. Display the details of the file.\n",
        "\n",
        "myfile =  open(\"file2.txt\", \"w\")\n",
        "\n",
        "for i in range(5):\n",
        "    line = input(f\"Enter line: {i+1}: \")\n",
        "    myfile.write(line + \"\\n\")\n",
        "\n",
        "myfile.close()\n",
        "\n",
        "myfile = open(\"new.txt\", \"r\")\n",
        "\n",
        "upper_count = 0\n",
        "lower_count = 0\n",
        "digit_count = 0\n",
        "\n",
        "for line in myfile:\n",
        "    for char in line:\n",
        "        if char.isupper():\n",
        "            upper_count += 1\n",
        "        elif char.islower():\n",
        "            lower_count += 1\n",
        "        elif char.isdigit():\n",
        "            digit_count += 1\n",
        "\n",
        "myfile.close()\n",
        "\n",
        "print(f\"Uppercase Count: {upper_count}, Lowercase Count: {lower_count}, Digit Count: {digit_count}\")"
      ],
      "metadata": {
        "colab": {
          "base_uri": "https://localhost:8080/"
        },
        "id": "AbrLQ8uoIe0k",
        "outputId": "dec7f970-6ab8-44d5-9d9c-2fbe1d95128e"
      },
      "execution_count": 52,
      "outputs": [
        {
          "output_type": "stream",
          "name": "stdout",
          "text": [
            "Enter line: 1: asasas\n",
            "Enter line: 2: d\n",
            "Enter line: 3: ghdfhdhd\n",
            "Enter line: 4: \"\"\n",
            "Enter line: 5: \"\n",
            "Uppercase Count: 0, Lowercase Count: 16, Digit Count: 0\n"
          ]
        }
      ]
    },
    {
      "cell_type": "code",
      "source": [
        "# 9. a.\tDevelop a python program read a dataset and perform the following using Pandas\n",
        "# •\tVisualize the dataset using plot ().\n",
        "# •\tDraw the Scatter plot for the dataset on any column.\n",
        "# •\tDisplay the scatter plot with different colors.\n",
        "# •\tDraw the Histogram for the dataset on any column.\n",
        "\n",
        "import matplotlib.pyplot as plt\n",
        "import pandas as pd\n",
        "\n",
        "df = pd.read_csv('iris.csv')\n",
        "\n",
        "plt.figure(figsize=(10, 6))\n",
        "df.plot(kind='line', subplots=True, layout=(5, 5), figsize=(15, 10), title=\"Dataset Visualization\")\n",
        "plt.tight_layout()\n",
        "plt.show()\n",
        "\n",
        "df.plot.scatter(x = 'sepal.length', y = 'sepal.width', title = \"Scatter plot variable for X and Y axis\")\n",
        "plt.show()\n",
        "\n",
        "plt.scatter(df.index, df['sepal.length'], c='black')\n",
        "plt.xlabel('Index')\n",
        "\n",
        "df.plot(kind='hist')\n",
        "plt.show()"
      ],
      "metadata": {
        "id": "5_5PEYliQMCP"
      },
      "execution_count": null,
      "outputs": []
    },
    {
      "cell_type": "code",
      "source": [
        "# 9. b.\tDevelop a python program to demonstrate handling multiple exceptions using try, except , else and finally block statements\n",
        "\n",
        "def handle_multiple_exceptions():\n",
        "    try:\n",
        "        # Code that may raise multiple exceptions\n",
        "        value = int(input(\"Enter a number: \"))  # May raise ValueError\n",
        "        result = 10 / value  # May raise ZeroDivisionError\n",
        "        my_list = [1, 2, 3]\n",
        "        print(my_list[value])  # May raise IndexError\n",
        "        my_dict = {'a': 1, 'b': 2}\n",
        "        print(my_dict[value])  # May raise KeyError if value is not 0 or 1\n",
        "\n",
        "    except ValueError as e:\n",
        "        print(f\"ValueError caught: {e}\")\n",
        "\n",
        "    except ZeroDivisionError as e:\n",
        "        print(f\"ZeroDivisionError caught: {e}\")\n",
        "\n",
        "    except IndexError as e:\n",
        "        print(f\"IndexError caught: {e}\")\n",
        "\n",
        "    except KeyError as e:\n",
        "        print(f\"KeyError caught: {e}\")\n",
        "\n",
        "    else:\n",
        "        # This block will run if no exceptions were raised\n",
        "        print(\"All operations were successful!\")\n",
        "\n",
        "    finally:\n",
        "        # This block will always run\n",
        "        print(\"Execution completed, whether an exception was raised or not.\")\n",
        "\n",
        "# Call the function to demonstrate exception handling\n",
        "handle_multiple_exceptions()"
      ],
      "metadata": {
        "colab": {
          "base_uri": "https://localhost:8080/"
        },
        "id": "5Lkrgb5QRkOS",
        "outputId": "bb385afb-9abc-4e69-9039-0ae48396eaad"
      },
      "execution_count": 43,
      "outputs": [
        {
          "output_type": "stream",
          "name": "stdout",
          "text": [
            "Enter a number: 0\n",
            "ZeroDivisionError caught: division by zero\n",
            "Execution completed, whether an exception was raised or not.\n"
          ]
        }
      ]
    },
    {
      "cell_type": "code",
      "source": [
        "# 10. b. b.\tWrite a python program to demonstrate handling of the following exceptions using try and except.\n",
        "# •\tName Error\n",
        "# •\tIndex Error\n",
        "# •\tKey Error\n",
        "# •\tZero Division Error\n",
        "\n",
        "def handle_exceptions():\n",
        "    # Handling NameError\n",
        "    try:\n",
        "        print(non_existent_variable)\n",
        "    except NameError as e:\n",
        "        print(f\"NameError caught: {e}\")\n",
        "\n",
        "    # Handling IndexError\n",
        "    try:\n",
        "        my_list = [1, 2, 3]\n",
        "        print(my_list[5])\n",
        "    except IndexError as e:\n",
        "        print(f\"IndexError caught: {e}\")\n",
        "\n",
        "    # Handling KeyError\n",
        "    try:\n",
        "        my_dict = {'a': 1, 'b': 2}\n",
        "        print(my_dict['c'])\n",
        "    except KeyError as e:\n",
        "        print(f\"KeyError caught: {e}\")\n",
        "\n",
        "    # Handling ZeroDivisionError\n",
        "    try:\n",
        "        result = 10 / 0\n",
        "    except ZeroDivisionError as e:\n",
        "        print(f\"ZeroDivisionError caught: {e}\")\n",
        "\n",
        "# Call the function to see exception handling in action\n",
        "handle_exceptions()"
      ],
      "metadata": {
        "colab": {
          "base_uri": "https://localhost:8080/"
        },
        "id": "C9U1HO-1SSVc",
        "outputId": "86e06a78-e0df-4236-bb32-47c4dc1f0d3a"
      },
      "execution_count": 44,
      "outputs": [
        {
          "output_type": "stream",
          "name": "stdout",
          "text": [
            "NameError caught: name 'non_existent_variable' is not defined\n",
            "IndexError caught: list index out of range\n",
            "KeyError caught: 'c'\n",
            "ZeroDivisionError caught: division by zero\n"
          ]
        }
      ]
    },
    {
      "cell_type": "code",
      "source": [
        "# c.\tWrite a python program to read the Iris dataset and perform the following operations using Pandas\n",
        "# •\tDisplay first 5 rows of the dataset.\n",
        "# •\tDisplay last 5 rows of the dataset.\n",
        "# •\tDisplay the information about the dataset.\n",
        "# •\tDisplay the overview of the values of each column.\n",
        "# •\tVisualize the dataset using plot ().\n",
        "\n",
        "df=pd.read_csv('iris.csv')\n",
        "\n",
        "print(\"First 5 rows of the dataset:\")\n",
        "print(df.head())\n",
        "\n",
        "print(\"\\nLast 5 rows of the dataset:\")\n",
        "print(df.tail())\n",
        "\n",
        "print(\"\\nInformation about the dataset:\")\n",
        "print(df.info())\n",
        "\n",
        "print(\"\\nOverview of the values of each column:\")\n",
        "print(df.describe())\n",
        "\n",
        "plt.figure(figsize=(10, 6))\n",
        "df.plot(kind='line', subplots=True, layout=(5, 5), figsize=(15, 10), title=\"Dataset Visualization\")\n",
        "plt.tight_layout()\n",
        "plt.show()"
      ],
      "metadata": {
        "id": "-wEjH5YxSiKP"
      },
      "execution_count": null,
      "outputs": []
    }
  ]
}